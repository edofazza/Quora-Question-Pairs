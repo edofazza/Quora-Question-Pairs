{
  "cells": [
    {
      "cell_type": "markdown",
      "metadata": {
        "id": "Iub6uBN8g1Is"
      },
      "source": [
        "# Siamese\n"
      ]
    },
    {
      "cell_type": "markdown",
      "metadata": {
        "id": "ICCjNCz1rLOd"
      },
      "source": [
        "# Import libraries"
      ]
    },
    {
      "cell_type": "code",
      "execution_count": null,
      "metadata": {
        "colab": {
          "base_uri": "https://localhost:8080/"
        },
        "id": "uMvor1uBrMYF",
        "outputId": "bd2ffd0c-9bf7-42bd-b1c0-f2866592041d"
      },
      "outputs": [
        {
          "output_type": "stream",
          "name": "stdout",
          "text": [
            "[nltk_data] Downloading package stopwords to /root/nltk_data...\n",
            "[nltk_data]   Unzipping corpora/stopwords.zip.\n",
            "[nltk_data] Downloading package punkt to /root/nltk_data...\n",
            "[nltk_data]   Unzipping tokenizers/punkt.zip.\n",
            "[nltk_data] Downloading package wordnet to /root/nltk_data...\n",
            "[nltk_data]   Unzipping corpora/wordnet.zip.\n"
          ]
        }
      ],
      "source": [
        "from google.colab import drive\n",
        "import pandas as pd\n",
        "import numpy as np\n",
        "import scipy\n",
        "import os\n",
        "import string\n",
        "import csv\n",
        "import random as rn\n",
        "\n",
        "import nltk\n",
        "nltk.download('stopwords')\n",
        "nltk.download('punkt')\n",
        "nltk.download('wordnet')\n",
        "\n",
        "from nltk.tokenize import word_tokenize\n",
        "from nltk.stem import WordNetLemmatizer\n",
        "\n",
        "import warnings\n",
        "warnings.filterwarnings('ignore')\n",
        "\n",
        "from sklearn import preprocessing\n",
        "import spacy\n",
        "import matplotlib.pyplot as plt\n",
        "import plotly.graph_objects as go\n",
        "\n",
        "import re\n",
        "from string import punctuation\n",
        "from nltk.stem import SnowballStemmer\n",
        "from nltk.corpus import stopwords\n",
        "stop_words = set(stopwords.words('english'))\n",
        "\n",
        "from keras.preprocessing.text import Tokenizer\n",
        "from keras.preprocessing import sequence\n",
        "from sklearn.model_selection import train_test_split\n",
        "\n",
        "from keras.models import Sequential, Model\n",
        "from keras.layers import Input, Embedding, Dense, Dropout, LSTM\n",
        "\n",
        "import tensorflow as tf\n",
        "from tensorflow import keras\n",
        "from keras import optimizers\n",
        "import shutil\n",
        "from sklearn import metrics\n",
        "from keras import layers\n",
        "from sklearn.utils import class_weight"
      ]
    },
    {
      "cell_type": "markdown",
      "metadata": {
        "id": "DIJcJVZYqyC7"
      },
      "source": [
        "# Load dataset"
      ]
    },
    {
      "cell_type": "code",
      "execution_count": null,
      "metadata": {
        "colab": {
          "base_uri": "https://localhost:8080/"
        },
        "id": "jI7DThRMidll",
        "outputId": "e388ac4d-3049-492a-b7b1-bc02d5dce8d8"
      },
      "outputs": [
        {
          "output_type": "stream",
          "name": "stdout",
          "text": [
            "Mounted at /content/drive\n"
          ]
        }
      ],
      "source": [
        "drive.mount('/content/drive', force_remount=True)"
      ]
    },
    {
      "cell_type": "code",
      "execution_count": null,
      "metadata": {
        "colab": {
          "base_uri": "https://localhost:8080/"
        },
        "id": "4Jt_BJQYvw3u",
        "outputId": "af10376b-92c0-4dd7-e7f7-49db7d902cfa"
      },
      "outputs": [
        {
          "output_type": "stream",
          "name": "stdout",
          "text": [
            "'/content/drive/MyDrive/Quora/Dataset' -> '/content/Dataset'\n",
            "'/content/drive/MyDrive/Quora/Dataset/validation.csv' -> '/content/Dataset/validation.csv'\n",
            "'/content/drive/MyDrive/Quora/Dataset/test.csv' -> '/content/Dataset/test.csv'\n",
            "'/content/drive/MyDrive/Quora/Dataset/training.csv' -> '/content/Dataset/training.csv'\n",
            "'/content/drive/MyDrive/Quora/Dataset/augmented_training.csv' -> '/content/Dataset/augmented_training.csv'\n",
            "'/content/drive/MyDrive/Quora/Dataset/val_cosine_score.csv' -> '/content/Dataset/val_cosine_score.csv'\n"
          ]
        }
      ],
      "source": [
        "%cp --verbose -R \"/content/drive/MyDrive/Quora/Dataset\" \"/content\""
      ]
    },
    {
      "cell_type": "markdown",
      "metadata": {
        "id": "jffuu791rRTj"
      },
      "source": [
        "# Set Parameters"
      ]
    },
    {
      "cell_type": "code",
      "execution_count": null,
      "metadata": {
        "id": "JopVXiqHnpnf"
      },
      "outputs": [],
      "source": [
        "DATASET_PATH = '/content/Dataset'\n",
        "\n",
        "LOCAL_MODELS_FOLDER = \"/content/Models\"\n",
        "if not os.path.exists(LOCAL_MODELS_FOLDER):\n",
        "  os.makedirs(LOCAL_MODELS_FOLDER)\n",
        "GLOBAL_MODELS_FOLDER = \"/content/drive/My Drive/Quora/Models/Siamese\"\n",
        "\n",
        "HISTORIES_FOLDER = \"/content/drive/My Drive/Quora/Histories/Siamese\"\n",
        "\n",
        "BATCH_SIZE = 64\n",
        "SEED = 24"
      ]
    },
    {
      "cell_type": "markdown",
      "metadata": {
        "id": "2SL7VQXsvDxy"
      },
      "source": [
        "# Utility Functions"
      ]
    },
    {
      "cell_type": "code",
      "execution_count": null,
      "metadata": {
        "id": "fML38gt1vFXV"
      },
      "outputs": [],
      "source": [
        "def set_seed ():\n",
        "  ''' \n",
        "  set_seed is used to obtain reproducible results using keras during the development phase\n",
        "  '''\n",
        "  # The below is necessary for reproducible results of certain Python hash-based operations.\n",
        "  os.environ[\"PYTHONHASHSEED\"]=\"0\"\n",
        "  # The below is necessary for starting Numpy generated random numbers in a well-defined initial state.\n",
        "  np.random.seed(SEED)\n",
        "  # The below is necessary for starting core Python generated random numbers in a well-defined state.\n",
        "  rn.seed(SEED)\n",
        "  # The below tf.random.set_seed will make random number generation in TensorFlow have a well-defined initial state.\n",
        "  tf.random.set_seed(SEED)\n",
        "\n",
        "def show_training_and_validation_performance(history):\n",
        "  '''\n",
        "  show_training_and_validation_performance is used to plot the performances during the training phase\n",
        "  :param history: object in which are recorded all the events\n",
        "  '''\n",
        "  acc = history.history['accuracy']\n",
        "  val_acc = history.history['val_accuracy']\n",
        "  loss = history.history['loss']\n",
        "  val_loss = history.history['val_loss']\n",
        "\n",
        "  epochs = range(len(acc))\n",
        "\n",
        "  plt.plot(epochs, acc, 'bo', label='Training accuracy')\n",
        "  plt.plot(epochs, val_acc, 'b', label='Validation accuracy')\n",
        "  plt.title('Training and validation accuracy')\n",
        "  plt.legend()\n",
        "\n",
        "  plt.figure()\n",
        "\n",
        "  plt.plot(epochs, loss, 'bo', label='Training loss')\n",
        "  plt.plot(epochs, val_loss, 'b', label='Validation loss')\n",
        "  plt.title('Training and validation loss')\n",
        "  plt.legend()\n",
        "\n",
        "  plt.show()\n",
        "\n",
        "def compile_model (model, optimizer='adam', learning_rate = 0.001, loss='binary_crossentropy'):\n",
        "  '''\n",
        "  compile_model is used to compile the current model\n",
        "  :param model: model to compile\n",
        "  :param optimizer: optimizer to be used\n",
        "  :param learning_rate: learning rate parameter for the optimizer\n",
        "  '''\n",
        "  if optimizer == 'adam':\n",
        "    model.compile(loss=loss,\n",
        "      optimizer=keras.optimizers.Adam(learning_rate=learning_rate),\n",
        "      metrics=[\"accuracy\"])\n",
        "  elif optimizer == 'rmsprop':\n",
        "    model.compile(loss=loss,\n",
        "                  optimizer = keras.optimizers.RMSprop(learning_rate=learning_rate),\n",
        "                  metrics=['accuracy'])\n",
        "  model.summary()\n",
        "\n",
        "def run_model (model, model_name, X_train, y_train, X_validation, y_validation, epochs = 50, patience = 5, monitor='val_loss', class_weight=None):\n",
        "  '''\n",
        "  run_model is used to run the current mode\n",
        "  :param model: model to run\n",
        "  :param model_name: name given to save the model\n",
        "  :param epochs: how many epochs to do\n",
        "  :param patience: patience value for Early Stopping\n",
        "  :param monitor: what to monitor for Early Stopping and Model Checkpoint\n",
        "  '''\n",
        "  # local save path for the models\n",
        "  save_path = LOCAL_MODELS_FOLDER + '/' + model_name + '.h5'\n",
        "  callbacks_list = [\n",
        "                  keras.callbacks.EarlyStopping(monitor=monitor, patience=patience),\n",
        "                  keras.callbacks.ModelCheckpoint(\n",
        "                      filepath = save_path,\n",
        "                      monitor=monitor,\n",
        "                      verbose=1,\n",
        "                      save_best_only=True)\n",
        "                  ]\n",
        "  history = model.fit(X_train, y_train,\n",
        "                    epochs=epochs,\n",
        "                    batch_size=BATCH_SIZE,\n",
        "                    validation_data=(X_validation, y_validation),\n",
        "                    callbacks=callbacks_list,\n",
        "                    class_weight=class_weight)\n",
        "  # save on Drive only the best model\n",
        "  shutil.copy(save_path, GLOBAL_MODELS_FOLDER + '/' + model_name + '.h5')\n",
        "\n",
        "  # save on Drive also the history object\n",
        "  history_df = pd.DataFrame(history.history)\n",
        "  with open(HISTORIES_FOLDER + '/' + model_name + '.csv', mode='w+') as f:\n",
        "    history_df.to_csv(f)\n",
        "\n",
        "  show_training_and_validation_performance(history)\n",
        "\n",
        "def evaluate_model (model, X_test, y_test):\n",
        "  '''\n",
        "  evaluate_model is used to plot some statistics about the performance on the test set\n",
        "  :param model: model to consider\n",
        "  '''\n",
        "  y_score = model.predict(X_test)\n",
        "  y_pred = np.rint(y_score) # to have 0 or 1\n",
        "  y_true = y_test\n",
        "  print(\"Classification report: \")\n",
        "  print(metrics.classification_report(y_true,y_pred,digits = 4))\n",
        "  metrics.ConfusionMatrixDisplay.from_predictions(y_true, y_pred)\n",
        "\n",
        "  # ROC curve\n",
        "  fpr,tpr,th = metrics.roc_curve(y_true,y_score)\n",
        "  roc_auc = metrics.roc_auc_score(y_true,y_score)\n",
        "\n",
        "  plt.figure()\n",
        "  plt.plot(fpr, tpr, label='ROC curve (area = %0.2f)' % roc_auc)\n",
        "  plt.plot([0, 1], [0, 1], color='navy', linestyle='--')\n",
        "  plt.xlim([0.0, 1.0])\n",
        "  plt.ylim([0.0, 1.0])\n",
        "  plt.xlabel('False Positive Rate')\n",
        "  plt.ylabel('True Positive Rate')\n",
        "  plt.title('ROC curve')\n",
        "  plt.legend(loc=\"lower right\")\n",
        "  plt.show()\n",
        "\n",
        "def txt_process(input_text):\n",
        "  '''\n",
        "  txt_process is used to preprocess a question\n",
        "  :param input_text: input string\n",
        "  :return: the cleaned version of the input string\n",
        "  '''\n",
        "  # Removing punctuation from input text\n",
        "  input_text = ''.join([x for x in input_text if x not in punctuation])\n",
        "  # Cleaning the text\n",
        "  input_text = re.sub(r\"[^A-Za-z0-9]\", \" \", input_text)\n",
        "  input_text = re.sub(r\"\\'s\", \" \", input_text)\n",
        "  # remove stop words\n",
        "  input_text = input_text.split()\n",
        "  input_text = [x for x in input_text if not x in stop_words]\n",
        "  input_text = \" \".join(input_text)\n",
        "  # return a list of words\n",
        "  return(input_text)"
      ]
    },
    {
      "cell_type": "markdown",
      "metadata": {
        "id": "sy9LJdqQwasf"
      },
      "source": [
        "# Preprocessing data"
      ]
    },
    {
      "cell_type": "code",
      "execution_count": null,
      "metadata": {
        "id": "cgUNhNgdhNSL"
      },
      "outputs": [],
      "source": [
        "set_seed()"
      ]
    },
    {
      "cell_type": "code",
      "execution_count": null,
      "metadata": {
        "id": "toCag8g4x_c9"
      },
      "outputs": [],
      "source": [
        "train_questions = pd.read_csv(DATASET_PATH + '/training.csv')\n",
        "validation_questions = pd.read_csv(DATASET_PATH + '/validation.csv')\n",
        "test_questions = pd.read_csv(DATASET_PATH + '/test.csv')"
      ]
    },
    {
      "cell_type": "code",
      "execution_count": null,
      "metadata": {
        "colab": {
          "base_uri": "https://localhost:8080/",
          "height": 624
        },
        "id": "jWmSw__WyVJI",
        "outputId": "692ae6c5-98fe-4830-a63f-684ce332691f"
      },
      "outputs": [
        {
          "output_type": "execute_result",
          "data": {
            "text/html": [
              "\n",
              "  <div id=\"df-1c3b143d-4014-47c0-9f95-0da8061a0cce\">\n",
              "    <div class=\"colab-df-container\">\n",
              "      <div>\n",
              "<style scoped>\n",
              "    .dataframe tbody tr th:only-of-type {\n",
              "        vertical-align: middle;\n",
              "    }\n",
              "\n",
              "    .dataframe tbody tr th {\n",
              "        vertical-align: top;\n",
              "    }\n",
              "\n",
              "    .dataframe thead th {\n",
              "        text-align: right;\n",
              "    }\n",
              "</style>\n",
              "<table border=\"1\" class=\"dataframe\">\n",
              "  <thead>\n",
              "    <tr style=\"text-align: right;\">\n",
              "      <th></th>\n",
              "      <th>id</th>\n",
              "      <th>qid1</th>\n",
              "      <th>qid2</th>\n",
              "      <th>question1</th>\n",
              "      <th>question2</th>\n",
              "      <th>is_duplicate</th>\n",
              "    </tr>\n",
              "  </thead>\n",
              "  <tbody>\n",
              "    <tr>\n",
              "      <th>0</th>\n",
              "      <td>216036</td>\n",
              "      <td>322068</td>\n",
              "      <td>322069</td>\n",
              "      <td>How can I sell at Snapdeal? What are the terms...</td>\n",
              "      <td>What are the payment terms for online marketpl...</td>\n",
              "      <td>0</td>\n",
              "    </tr>\n",
              "    <tr>\n",
              "      <th>1</th>\n",
              "      <td>241554</td>\n",
              "      <td>353581</td>\n",
              "      <td>353582</td>\n",
              "      <td>Why are most prosecutors in American courts no...</td>\n",
              "      <td>Why does a country like USA where law enforcem...</td>\n",
              "      <td>0</td>\n",
              "    </tr>\n",
              "    <tr>\n",
              "      <th>2</th>\n",
              "      <td>208738</td>\n",
              "      <td>312815</td>\n",
              "      <td>312816</td>\n",
              "      <td>What are some good government jobs without a c...</td>\n",
              "      <td>Are there any good companies that hire smart p...</td>\n",
              "      <td>0</td>\n",
              "    </tr>\n",
              "    <tr>\n",
              "      <th>3</th>\n",
              "      <td>102714</td>\n",
              "      <td>104282</td>\n",
              "      <td>77231</td>\n",
              "      <td>What would happen if humans no longer needed t...</td>\n",
              "      <td>What would the world be like if humans didn't ...</td>\n",
              "      <td>1</td>\n",
              "    </tr>\n",
              "    <tr>\n",
              "      <th>4</th>\n",
              "      <td>397304</td>\n",
              "      <td>178955</td>\n",
              "      <td>34172</td>\n",
              "      <td>How do I shave my bikini line?</td>\n",
              "      <td>What is the best way to shave the bikini area?</td>\n",
              "      <td>1</td>\n",
              "    </tr>\n",
              "    <tr>\n",
              "      <th>...</th>\n",
              "      <td>...</td>\n",
              "      <td>...</td>\n",
              "      <td>...</td>\n",
              "      <td>...</td>\n",
              "      <td>...</td>\n",
              "      <td>...</td>\n",
              "    </tr>\n",
              "    <tr>\n",
              "      <th>323426</th>\n",
              "      <td>189944</td>\n",
              "      <td>8395</td>\n",
              "      <td>34814</td>\n",
              "      <td>Is it true that the US is funding ISIS?</td>\n",
              "      <td>Is it really true that US is backing ISIS?</td>\n",
              "      <td>1</td>\n",
              "    </tr>\n",
              "    <tr>\n",
              "      <th>323427</th>\n",
              "      <td>330730</td>\n",
              "      <td>110579</td>\n",
              "      <td>457526</td>\n",
              "      <td>How do I play in share market in India?</td>\n",
              "      <td>How can I study and invest in the Indian share...</td>\n",
              "      <td>0</td>\n",
              "    </tr>\n",
              "    <tr>\n",
              "      <th>323428</th>\n",
              "      <td>143114</td>\n",
              "      <td>226824</td>\n",
              "      <td>175127</td>\n",
              "      <td>What is the difference between laundry deterge...</td>\n",
              "      <td>How safe is it to use non-HE detergent in a HE...</td>\n",
              "      <td>0</td>\n",
              "    </tr>\n",
              "    <tr>\n",
              "      <th>323429</th>\n",
              "      <td>10918</td>\n",
              "      <td>21121</td>\n",
              "      <td>21122</td>\n",
              "      <td>Would you consider teaching as a full time job...</td>\n",
              "      <td>Would you consider teaching as a full time job?</td>\n",
              "      <td>1</td>\n",
              "    </tr>\n",
              "    <tr>\n",
              "      <th>323430</th>\n",
              "      <td>57378</td>\n",
              "      <td>100834</td>\n",
              "      <td>100835</td>\n",
              "      <td>What drugs are readily accessible in Canada ov...</td>\n",
              "      <td>What legal drugs (i.e. bought 'over the counte...</td>\n",
              "      <td>0</td>\n",
              "    </tr>\n",
              "  </tbody>\n",
              "</table>\n",
              "<p>323431 rows × 6 columns</p>\n",
              "</div>\n",
              "      <button class=\"colab-df-convert\" onclick=\"convertToInteractive('df-1c3b143d-4014-47c0-9f95-0da8061a0cce')\"\n",
              "              title=\"Convert this dataframe to an interactive table.\"\n",
              "              style=\"display:none;\">\n",
              "        \n",
              "  <svg xmlns=\"http://www.w3.org/2000/svg\" height=\"24px\"viewBox=\"0 0 24 24\"\n",
              "       width=\"24px\">\n",
              "    <path d=\"M0 0h24v24H0V0z\" fill=\"none\"/>\n",
              "    <path d=\"M18.56 5.44l.94 2.06.94-2.06 2.06-.94-2.06-.94-.94-2.06-.94 2.06-2.06.94zm-11 1L8.5 8.5l.94-2.06 2.06-.94-2.06-.94L8.5 2.5l-.94 2.06-2.06.94zm10 10l.94 2.06.94-2.06 2.06-.94-2.06-.94-.94-2.06-.94 2.06-2.06.94z\"/><path d=\"M17.41 7.96l-1.37-1.37c-.4-.4-.92-.59-1.43-.59-.52 0-1.04.2-1.43.59L10.3 9.45l-7.72 7.72c-.78.78-.78 2.05 0 2.83L4 21.41c.39.39.9.59 1.41.59.51 0 1.02-.2 1.41-.59l7.78-7.78 2.81-2.81c.8-.78.8-2.07 0-2.86zM5.41 20L4 18.59l7.72-7.72 1.47 1.35L5.41 20z\"/>\n",
              "  </svg>\n",
              "      </button>\n",
              "      \n",
              "  <style>\n",
              "    .colab-df-container {\n",
              "      display:flex;\n",
              "      flex-wrap:wrap;\n",
              "      gap: 12px;\n",
              "    }\n",
              "\n",
              "    .colab-df-convert {\n",
              "      background-color: #E8F0FE;\n",
              "      border: none;\n",
              "      border-radius: 50%;\n",
              "      cursor: pointer;\n",
              "      display: none;\n",
              "      fill: #1967D2;\n",
              "      height: 32px;\n",
              "      padding: 0 0 0 0;\n",
              "      width: 32px;\n",
              "    }\n",
              "\n",
              "    .colab-df-convert:hover {\n",
              "      background-color: #E2EBFA;\n",
              "      box-shadow: 0px 1px 2px rgba(60, 64, 67, 0.3), 0px 1px 3px 1px rgba(60, 64, 67, 0.15);\n",
              "      fill: #174EA6;\n",
              "    }\n",
              "\n",
              "    [theme=dark] .colab-df-convert {\n",
              "      background-color: #3B4455;\n",
              "      fill: #D2E3FC;\n",
              "    }\n",
              "\n",
              "    [theme=dark] .colab-df-convert:hover {\n",
              "      background-color: #434B5C;\n",
              "      box-shadow: 0px 1px 3px 1px rgba(0, 0, 0, 0.15);\n",
              "      filter: drop-shadow(0px 1px 2px rgba(0, 0, 0, 0.3));\n",
              "      fill: #FFFFFF;\n",
              "    }\n",
              "  </style>\n",
              "\n",
              "      <script>\n",
              "        const buttonEl =\n",
              "          document.querySelector('#df-1c3b143d-4014-47c0-9f95-0da8061a0cce button.colab-df-convert');\n",
              "        buttonEl.style.display =\n",
              "          google.colab.kernel.accessAllowed ? 'block' : 'none';\n",
              "\n",
              "        async function convertToInteractive(key) {\n",
              "          const element = document.querySelector('#df-1c3b143d-4014-47c0-9f95-0da8061a0cce');\n",
              "          const dataTable =\n",
              "            await google.colab.kernel.invokeFunction('convertToInteractive',\n",
              "                                                     [key], {});\n",
              "          if (!dataTable) return;\n",
              "\n",
              "          const docLinkHtml = 'Like what you see? Visit the ' +\n",
              "            '<a target=\"_blank\" href=https://colab.research.google.com/notebooks/data_table.ipynb>data table notebook</a>'\n",
              "            + ' to learn more about interactive tables.';\n",
              "          element.innerHTML = '';\n",
              "          dataTable['output_type'] = 'display_data';\n",
              "          await google.colab.output.renderOutput(dataTable, element);\n",
              "          const docLink = document.createElement('div');\n",
              "          docLink.innerHTML = docLinkHtml;\n",
              "          element.appendChild(docLink);\n",
              "        }\n",
              "      </script>\n",
              "    </div>\n",
              "  </div>\n",
              "  "
            ],
            "text/plain": [
              "            id    qid1    qid2  \\\n",
              "0       216036  322068  322069   \n",
              "1       241554  353581  353582   \n",
              "2       208738  312815  312816   \n",
              "3       102714  104282   77231   \n",
              "4       397304  178955   34172   \n",
              "...        ...     ...     ...   \n",
              "323426  189944    8395   34814   \n",
              "323427  330730  110579  457526   \n",
              "323428  143114  226824  175127   \n",
              "323429   10918   21121   21122   \n",
              "323430   57378  100834  100835   \n",
              "\n",
              "                                                question1  \\\n",
              "0       How can I sell at Snapdeal? What are the terms...   \n",
              "1       Why are most prosecutors in American courts no...   \n",
              "2       What are some good government jobs without a c...   \n",
              "3       What would happen if humans no longer needed t...   \n",
              "4                          How do I shave my bikini line?   \n",
              "...                                                   ...   \n",
              "323426            Is it true that the US is funding ISIS?   \n",
              "323427            How do I play in share market in India?   \n",
              "323428  What is the difference between laundry deterge...   \n",
              "323429  Would you consider teaching as a full time job...   \n",
              "323430  What drugs are readily accessible in Canada ov...   \n",
              "\n",
              "                                                question2  is_duplicate  \n",
              "0       What are the payment terms for online marketpl...             0  \n",
              "1       Why does a country like USA where law enforcem...             0  \n",
              "2       Are there any good companies that hire smart p...             0  \n",
              "3       What would the world be like if humans didn't ...             1  \n",
              "4          What is the best way to shave the bikini area?             1  \n",
              "...                                                   ...           ...  \n",
              "323426         Is it really true that US is backing ISIS?             1  \n",
              "323427  How can I study and invest in the Indian share...             0  \n",
              "323428  How safe is it to use non-HE detergent in a HE...             0  \n",
              "323429    Would you consider teaching as a full time job?             1  \n",
              "323430  What legal drugs (i.e. bought 'over the counte...             0  \n",
              "\n",
              "[323431 rows x 6 columns]"
            ]
          },
          "metadata": {},
          "execution_count": 8
        }
      ],
      "source": [
        "train_questions"
      ]
    },
    {
      "cell_type": "code",
      "execution_count": null,
      "metadata": {
        "id": "RyT2YKzUwcpx"
      },
      "outputs": [],
      "source": [
        "train_questions['question1_cleaned'] = train_questions.apply(lambda x: txt_process(x['question1']), axis = 1)\n",
        "train_questions['question2_cleaned'] = train_questions.apply(lambda x: txt_process(x['question2']), axis = 1)\n",
        "\n",
        "validation_questions['question1_cleaned'] = validation_questions.apply(lambda x: txt_process(x['question1']), axis = 1)\n",
        "validation_questions['question2_cleaned'] = validation_questions.apply(lambda x: txt_process(x['question2']), axis = 1)\n",
        "\n",
        "test_questions['question1_cleaned'] = test_questions.apply(lambda x: txt_process(x['question1']), axis = 1)\n",
        "test_questions['question2_cleaned'] = test_questions.apply(lambda x: txt_process(x['question2']), axis = 1)"
      ]
    },
    {
      "cell_type": "code",
      "execution_count": null,
      "metadata": {
        "colab": {
          "base_uri": "https://localhost:8080/",
          "height": 919
        },
        "id": "uMb9cIur8Azq",
        "outputId": "39227cce-2f63-4c07-822a-e44146cd47a8"
      },
      "outputs": [
        {
          "output_type": "execute_result",
          "data": {
            "text/html": [
              "\n",
              "  <div id=\"df-b34a0a00-e5f1-45aa-ba23-9e800c77f784\">\n",
              "    <div class=\"colab-df-container\">\n",
              "      <div>\n",
              "<style scoped>\n",
              "    .dataframe tbody tr th:only-of-type {\n",
              "        vertical-align: middle;\n",
              "    }\n",
              "\n",
              "    .dataframe tbody tr th {\n",
              "        vertical-align: top;\n",
              "    }\n",
              "\n",
              "    .dataframe thead th {\n",
              "        text-align: right;\n",
              "    }\n",
              "</style>\n",
              "<table border=\"1\" class=\"dataframe\">\n",
              "  <thead>\n",
              "    <tr style=\"text-align: right;\">\n",
              "      <th></th>\n",
              "      <th>id</th>\n",
              "      <th>qid1</th>\n",
              "      <th>qid2</th>\n",
              "      <th>question1</th>\n",
              "      <th>question2</th>\n",
              "      <th>is_duplicate</th>\n",
              "      <th>question1_cleaned</th>\n",
              "      <th>question2_cleaned</th>\n",
              "    </tr>\n",
              "  </thead>\n",
              "  <tbody>\n",
              "    <tr>\n",
              "      <th>0</th>\n",
              "      <td>216036</td>\n",
              "      <td>322068</td>\n",
              "      <td>322069</td>\n",
              "      <td>How can I sell at Snapdeal? What are the terms...</td>\n",
              "      <td>What are the payment terms for online marketpl...</td>\n",
              "      <td>0</td>\n",
              "      <td>How I sell Snapdeal What terms conditions</td>\n",
              "      <td>What payment terms online marketplaces like Fl...</td>\n",
              "    </tr>\n",
              "    <tr>\n",
              "      <th>1</th>\n",
              "      <td>241554</td>\n",
              "      <td>353581</td>\n",
              "      <td>353582</td>\n",
              "      <td>Why are most prosecutors in American courts no...</td>\n",
              "      <td>Why does a country like USA where law enforcem...</td>\n",
              "      <td>0</td>\n",
              "      <td>Why prosecutors American courts notoriously di...</td>\n",
              "      <td>Why country like USA law enforcements strict l...</td>\n",
              "    </tr>\n",
              "    <tr>\n",
              "      <th>2</th>\n",
              "      <td>208738</td>\n",
              "      <td>312815</td>\n",
              "      <td>312816</td>\n",
              "      <td>What are some good government jobs without a c...</td>\n",
              "      <td>Are there any good companies that hire smart p...</td>\n",
              "      <td>0</td>\n",
              "      <td>What good government jobs without college degree</td>\n",
              "      <td>Are good companies hire smart people without c...</td>\n",
              "    </tr>\n",
              "    <tr>\n",
              "      <th>3</th>\n",
              "      <td>102714</td>\n",
              "      <td>104282</td>\n",
              "      <td>77231</td>\n",
              "      <td>What would happen if humans no longer needed t...</td>\n",
              "      <td>What would the world be like if humans didn't ...</td>\n",
              "      <td>1</td>\n",
              "      <td>What would happen humans longer needed sleep</td>\n",
              "      <td>What would world like humans didnt need sleep</td>\n",
              "    </tr>\n",
              "    <tr>\n",
              "      <th>4</th>\n",
              "      <td>397304</td>\n",
              "      <td>178955</td>\n",
              "      <td>34172</td>\n",
              "      <td>How do I shave my bikini line?</td>\n",
              "      <td>What is the best way to shave the bikini area?</td>\n",
              "      <td>1</td>\n",
              "      <td>How I shave bikini line</td>\n",
              "      <td>What best way shave bikini area</td>\n",
              "    </tr>\n",
              "    <tr>\n",
              "      <th>...</th>\n",
              "      <td>...</td>\n",
              "      <td>...</td>\n",
              "      <td>...</td>\n",
              "      <td>...</td>\n",
              "      <td>...</td>\n",
              "      <td>...</td>\n",
              "      <td>...</td>\n",
              "      <td>...</td>\n",
              "    </tr>\n",
              "    <tr>\n",
              "      <th>323426</th>\n",
              "      <td>189944</td>\n",
              "      <td>8395</td>\n",
              "      <td>34814</td>\n",
              "      <td>Is it true that the US is funding ISIS?</td>\n",
              "      <td>Is it really true that US is backing ISIS?</td>\n",
              "      <td>1</td>\n",
              "      <td>Is true US funding ISIS</td>\n",
              "      <td>Is really true US backing ISIS</td>\n",
              "    </tr>\n",
              "    <tr>\n",
              "      <th>323427</th>\n",
              "      <td>330730</td>\n",
              "      <td>110579</td>\n",
              "      <td>457526</td>\n",
              "      <td>How do I play in share market in India?</td>\n",
              "      <td>How can I study and invest in the Indian share...</td>\n",
              "      <td>0</td>\n",
              "      <td>How I play share market India</td>\n",
              "      <td>How I study invest Indian share market</td>\n",
              "    </tr>\n",
              "    <tr>\n",
              "      <th>323428</th>\n",
              "      <td>143114</td>\n",
              "      <td>226824</td>\n",
              "      <td>175127</td>\n",
              "      <td>What is the difference between laundry deterge...</td>\n",
              "      <td>How safe is it to use non-HE detergent in a HE...</td>\n",
              "      <td>0</td>\n",
              "      <td>What difference laundry detergent bleach laund...</td>\n",
              "      <td>How safe use nonHE detergent HE laundry washer</td>\n",
              "    </tr>\n",
              "    <tr>\n",
              "      <th>323429</th>\n",
              "      <td>10918</td>\n",
              "      <td>21121</td>\n",
              "      <td>21122</td>\n",
              "      <td>Would you consider teaching as a full time job...</td>\n",
              "      <td>Would you consider teaching as a full time job?</td>\n",
              "      <td>1</td>\n",
              "      <td>Would consider teaching full time job Why</td>\n",
              "      <td>Would consider teaching full time job</td>\n",
              "    </tr>\n",
              "    <tr>\n",
              "      <th>323430</th>\n",
              "      <td>57378</td>\n",
              "      <td>100834</td>\n",
              "      <td>100835</td>\n",
              "      <td>What drugs are readily accessible in Canada ov...</td>\n",
              "      <td>What legal drugs (i.e. bought 'over the counte...</td>\n",
              "      <td>0</td>\n",
              "      <td>What drugs readily accessible Canada counter r...</td>\n",
              "      <td>What legal drugs ie bought counter cause loss ...</td>\n",
              "    </tr>\n",
              "  </tbody>\n",
              "</table>\n",
              "<p>323431 rows × 8 columns</p>\n",
              "</div>\n",
              "      <button class=\"colab-df-convert\" onclick=\"convertToInteractive('df-b34a0a00-e5f1-45aa-ba23-9e800c77f784')\"\n",
              "              title=\"Convert this dataframe to an interactive table.\"\n",
              "              style=\"display:none;\">\n",
              "        \n",
              "  <svg xmlns=\"http://www.w3.org/2000/svg\" height=\"24px\"viewBox=\"0 0 24 24\"\n",
              "       width=\"24px\">\n",
              "    <path d=\"M0 0h24v24H0V0z\" fill=\"none\"/>\n",
              "    <path d=\"M18.56 5.44l.94 2.06.94-2.06 2.06-.94-2.06-.94-.94-2.06-.94 2.06-2.06.94zm-11 1L8.5 8.5l.94-2.06 2.06-.94-2.06-.94L8.5 2.5l-.94 2.06-2.06.94zm10 10l.94 2.06.94-2.06 2.06-.94-2.06-.94-.94-2.06-.94 2.06-2.06.94z\"/><path d=\"M17.41 7.96l-1.37-1.37c-.4-.4-.92-.59-1.43-.59-.52 0-1.04.2-1.43.59L10.3 9.45l-7.72 7.72c-.78.78-.78 2.05 0 2.83L4 21.41c.39.39.9.59 1.41.59.51 0 1.02-.2 1.41-.59l7.78-7.78 2.81-2.81c.8-.78.8-2.07 0-2.86zM5.41 20L4 18.59l7.72-7.72 1.47 1.35L5.41 20z\"/>\n",
              "  </svg>\n",
              "      </button>\n",
              "      \n",
              "  <style>\n",
              "    .colab-df-container {\n",
              "      display:flex;\n",
              "      flex-wrap:wrap;\n",
              "      gap: 12px;\n",
              "    }\n",
              "\n",
              "    .colab-df-convert {\n",
              "      background-color: #E8F0FE;\n",
              "      border: none;\n",
              "      border-radius: 50%;\n",
              "      cursor: pointer;\n",
              "      display: none;\n",
              "      fill: #1967D2;\n",
              "      height: 32px;\n",
              "      padding: 0 0 0 0;\n",
              "      width: 32px;\n",
              "    }\n",
              "\n",
              "    .colab-df-convert:hover {\n",
              "      background-color: #E2EBFA;\n",
              "      box-shadow: 0px 1px 2px rgba(60, 64, 67, 0.3), 0px 1px 3px 1px rgba(60, 64, 67, 0.15);\n",
              "      fill: #174EA6;\n",
              "    }\n",
              "\n",
              "    [theme=dark] .colab-df-convert {\n",
              "      background-color: #3B4455;\n",
              "      fill: #D2E3FC;\n",
              "    }\n",
              "\n",
              "    [theme=dark] .colab-df-convert:hover {\n",
              "      background-color: #434B5C;\n",
              "      box-shadow: 0px 1px 3px 1px rgba(0, 0, 0, 0.15);\n",
              "      filter: drop-shadow(0px 1px 2px rgba(0, 0, 0, 0.3));\n",
              "      fill: #FFFFFF;\n",
              "    }\n",
              "  </style>\n",
              "\n",
              "      <script>\n",
              "        const buttonEl =\n",
              "          document.querySelector('#df-b34a0a00-e5f1-45aa-ba23-9e800c77f784 button.colab-df-convert');\n",
              "        buttonEl.style.display =\n",
              "          google.colab.kernel.accessAllowed ? 'block' : 'none';\n",
              "\n",
              "        async function convertToInteractive(key) {\n",
              "          const element = document.querySelector('#df-b34a0a00-e5f1-45aa-ba23-9e800c77f784');\n",
              "          const dataTable =\n",
              "            await google.colab.kernel.invokeFunction('convertToInteractive',\n",
              "                                                     [key], {});\n",
              "          if (!dataTable) return;\n",
              "\n",
              "          const docLinkHtml = 'Like what you see? Visit the ' +\n",
              "            '<a target=\"_blank\" href=https://colab.research.google.com/notebooks/data_table.ipynb>data table notebook</a>'\n",
              "            + ' to learn more about interactive tables.';\n",
              "          element.innerHTML = '';\n",
              "          dataTable['output_type'] = 'display_data';\n",
              "          await google.colab.output.renderOutput(dataTable, element);\n",
              "          const docLink = document.createElement('div');\n",
              "          docLink.innerHTML = docLinkHtml;\n",
              "          element.appendChild(docLink);\n",
              "        }\n",
              "      </script>\n",
              "    </div>\n",
              "  </div>\n",
              "  "
            ],
            "text/plain": [
              "            id    qid1    qid2  \\\n",
              "0       216036  322068  322069   \n",
              "1       241554  353581  353582   \n",
              "2       208738  312815  312816   \n",
              "3       102714  104282   77231   \n",
              "4       397304  178955   34172   \n",
              "...        ...     ...     ...   \n",
              "323426  189944    8395   34814   \n",
              "323427  330730  110579  457526   \n",
              "323428  143114  226824  175127   \n",
              "323429   10918   21121   21122   \n",
              "323430   57378  100834  100835   \n",
              "\n",
              "                                                question1  \\\n",
              "0       How can I sell at Snapdeal? What are the terms...   \n",
              "1       Why are most prosecutors in American courts no...   \n",
              "2       What are some good government jobs without a c...   \n",
              "3       What would happen if humans no longer needed t...   \n",
              "4                          How do I shave my bikini line?   \n",
              "...                                                   ...   \n",
              "323426            Is it true that the US is funding ISIS?   \n",
              "323427            How do I play in share market in India?   \n",
              "323428  What is the difference between laundry deterge...   \n",
              "323429  Would you consider teaching as a full time job...   \n",
              "323430  What drugs are readily accessible in Canada ov...   \n",
              "\n",
              "                                                question2  is_duplicate  \\\n",
              "0       What are the payment terms for online marketpl...             0   \n",
              "1       Why does a country like USA where law enforcem...             0   \n",
              "2       Are there any good companies that hire smart p...             0   \n",
              "3       What would the world be like if humans didn't ...             1   \n",
              "4          What is the best way to shave the bikini area?             1   \n",
              "...                                                   ...           ...   \n",
              "323426         Is it really true that US is backing ISIS?             1   \n",
              "323427  How can I study and invest in the Indian share...             0   \n",
              "323428  How safe is it to use non-HE detergent in a HE...             0   \n",
              "323429    Would you consider teaching as a full time job?             1   \n",
              "323430  What legal drugs (i.e. bought 'over the counte...             0   \n",
              "\n",
              "                                        question1_cleaned  \\\n",
              "0               How I sell Snapdeal What terms conditions   \n",
              "1       Why prosecutors American courts notoriously di...   \n",
              "2        What good government jobs without college degree   \n",
              "3            What would happen humans longer needed sleep   \n",
              "4                                 How I shave bikini line   \n",
              "...                                                   ...   \n",
              "323426                            Is true US funding ISIS   \n",
              "323427                      How I play share market India   \n",
              "323428  What difference laundry detergent bleach laund...   \n",
              "323429          Would consider teaching full time job Why   \n",
              "323430  What drugs readily accessible Canada counter r...   \n",
              "\n",
              "                                        question2_cleaned  \n",
              "0       What payment terms online marketplaces like Fl...  \n",
              "1       Why country like USA law enforcements strict l...  \n",
              "2       Are good companies hire smart people without c...  \n",
              "3           What would world like humans didnt need sleep  \n",
              "4                         What best way shave bikini area  \n",
              "...                                                   ...  \n",
              "323426                     Is really true US backing ISIS  \n",
              "323427             How I study invest Indian share market  \n",
              "323428     How safe use nonHE detergent HE laundry washer  \n",
              "323429              Would consider teaching full time job  \n",
              "323430  What legal drugs ie bought counter cause loss ...  \n",
              "\n",
              "[323431 rows x 8 columns]"
            ]
          },
          "metadata": {},
          "execution_count": 10
        }
      ],
      "source": [
        "train_questions"
      ]
    },
    {
      "cell_type": "markdown",
      "metadata": {
        "id": "s06z3Jwi8qL_"
      },
      "source": [
        "# Text to Feature\n",
        "Let’s stack both question IDs together so we can cover all words from both columns. Then we can tokenize these words to convert them to numbers."
      ]
    },
    {
      "cell_type": "code",
      "execution_count": null,
      "metadata": {
        "colab": {
          "base_uri": "https://localhost:8080/",
          "height": 652
        },
        "id": "hFsq_ojY8oVd",
        "outputId": "b7c91e31-5c30-4e5f-c4df-95809c14121d"
      },
      "outputs": [
        {
          "output_type": "execute_result",
          "data": {
            "text/html": [
              "\n",
              "  <div id=\"df-62c10a54-0090-4310-ba78-f325192b1aa5\">\n",
              "    <div class=\"colab-df-container\">\n",
              "      <div>\n",
              "<style scoped>\n",
              "    .dataframe tbody tr th:only-of-type {\n",
              "        vertical-align: middle;\n",
              "    }\n",
              "\n",
              "    .dataframe tbody tr th {\n",
              "        vertical-align: top;\n",
              "    }\n",
              "\n",
              "    .dataframe thead th {\n",
              "        text-align: right;\n",
              "    }\n",
              "</style>\n",
              "<table border=\"1\" class=\"dataframe\">\n",
              "  <thead>\n",
              "    <tr style=\"text-align: right;\">\n",
              "      <th></th>\n",
              "      <th>id</th>\n",
              "      <th>qid1</th>\n",
              "      <th>qid2</th>\n",
              "      <th>question1</th>\n",
              "      <th>question2</th>\n",
              "      <th>is_duplicate</th>\n",
              "      <th>question1_cleaned</th>\n",
              "      <th>question2_cleaned</th>\n",
              "      <th>tokenizer_1</th>\n",
              "      <th>tokenizer_2</th>\n",
              "    </tr>\n",
              "  </thead>\n",
              "  <tbody>\n",
              "    <tr>\n",
              "      <th>0</th>\n",
              "      <td>216036</td>\n",
              "      <td>322068</td>\n",
              "      <td>322069</td>\n",
              "      <td>How can I sell at Snapdeal? What are the terms...</td>\n",
              "      <td>What are the payment terms for online marketpl...</td>\n",
              "      <td>0</td>\n",
              "      <td>How I sell Snapdeal What terms conditions</td>\n",
              "      <td>What payment terms online marketplaces like Fl...</td>\n",
              "      <td>[3, 2, 521, 4904, 1, 465, 3145]</td>\n",
              "      <td>[1, 1602, 465, 46, 14381, 12, 2222, 7715, 4904...</td>\n",
              "    </tr>\n",
              "    <tr>\n",
              "      <th>1</th>\n",
              "      <td>241554</td>\n",
              "      <td>353581</td>\n",
              "      <td>353582</td>\n",
              "      <td>Why are most prosecutors in American courts no...</td>\n",
              "      <td>Why does a country like USA where law enforcem...</td>\n",
              "      <td>0</td>\n",
              "      <td>Why prosecutors American courts notoriously di...</td>\n",
              "      <td>Why country like USA law enforcements strict l...</td>\n",
              "      <td>[4, 28362, 291, 4729, 32475, 12230, 1099, 144,...</td>\n",
              "      <td>[4, 134, 12, 207, 403, 75955, 6163, 2007, 1220...</td>\n",
              "    </tr>\n",
              "    <tr>\n",
              "      <th>2</th>\n",
              "      <td>208738</td>\n",
              "      <td>312815</td>\n",
              "      <td>312816</td>\n",
              "      <td>What are some good government jobs without a c...</td>\n",
              "      <td>Are there any good companies that hire smart p...</td>\n",
              "      <td>0</td>\n",
              "      <td>What good government jobs without college degree</td>\n",
              "      <td>Are good companies hire smart people without c...</td>\n",
              "      <td>[1, 13, 163, 333, 43, 124, 417]</td>\n",
              "      <td>[41, 13, 180, 796, 769, 10, 43, 124, 417]</td>\n",
              "    </tr>\n",
              "    <tr>\n",
              "      <th>3</th>\n",
              "      <td>102714</td>\n",
              "      <td>104282</td>\n",
              "      <td>77231</td>\n",
              "      <td>What would happen if humans no longer needed t...</td>\n",
              "      <td>What would the world be like if humans didn't ...</td>\n",
              "      <td>1</td>\n",
              "      <td>What would happen humans longer needed sleep</td>\n",
              "      <td>What would world like humans didnt need sleep</td>\n",
              "      <td>[1, 14, 118, 474, 1191, 1142, 411]</td>\n",
              "      <td>[1, 14, 49, 12, 474, 489, 91, 411]</td>\n",
              "    </tr>\n",
              "    <tr>\n",
              "      <th>4</th>\n",
              "      <td>397304</td>\n",
              "      <td>178955</td>\n",
              "      <td>34172</td>\n",
              "      <td>How do I shave my bikini line?</td>\n",
              "      <td>What is the best way to shave the bikini area?</td>\n",
              "      <td>1</td>\n",
              "      <td>How I shave bikini line</td>\n",
              "      <td>What best way shave bikini area</td>\n",
              "      <td>[3, 2, 3378, 6389, 701]</td>\n",
              "      <td>[1, 5, 17, 3378, 6389, 618]</td>\n",
              "    </tr>\n",
              "  </tbody>\n",
              "</table>\n",
              "</div>\n",
              "      <button class=\"colab-df-convert\" onclick=\"convertToInteractive('df-62c10a54-0090-4310-ba78-f325192b1aa5')\"\n",
              "              title=\"Convert this dataframe to an interactive table.\"\n",
              "              style=\"display:none;\">\n",
              "        \n",
              "  <svg xmlns=\"http://www.w3.org/2000/svg\" height=\"24px\"viewBox=\"0 0 24 24\"\n",
              "       width=\"24px\">\n",
              "    <path d=\"M0 0h24v24H0V0z\" fill=\"none\"/>\n",
              "    <path d=\"M18.56 5.44l.94 2.06.94-2.06 2.06-.94-2.06-.94-.94-2.06-.94 2.06-2.06.94zm-11 1L8.5 8.5l.94-2.06 2.06-.94-2.06-.94L8.5 2.5l-.94 2.06-2.06.94zm10 10l.94 2.06.94-2.06 2.06-.94-2.06-.94-.94-2.06-.94 2.06-2.06.94z\"/><path d=\"M17.41 7.96l-1.37-1.37c-.4-.4-.92-.59-1.43-.59-.52 0-1.04.2-1.43.59L10.3 9.45l-7.72 7.72c-.78.78-.78 2.05 0 2.83L4 21.41c.39.39.9.59 1.41.59.51 0 1.02-.2 1.41-.59l7.78-7.78 2.81-2.81c.8-.78.8-2.07 0-2.86zM5.41 20L4 18.59l7.72-7.72 1.47 1.35L5.41 20z\"/>\n",
              "  </svg>\n",
              "      </button>\n",
              "      \n",
              "  <style>\n",
              "    .colab-df-container {\n",
              "      display:flex;\n",
              "      flex-wrap:wrap;\n",
              "      gap: 12px;\n",
              "    }\n",
              "\n",
              "    .colab-df-convert {\n",
              "      background-color: #E8F0FE;\n",
              "      border: none;\n",
              "      border-radius: 50%;\n",
              "      cursor: pointer;\n",
              "      display: none;\n",
              "      fill: #1967D2;\n",
              "      height: 32px;\n",
              "      padding: 0 0 0 0;\n",
              "      width: 32px;\n",
              "    }\n",
              "\n",
              "    .colab-df-convert:hover {\n",
              "      background-color: #E2EBFA;\n",
              "      box-shadow: 0px 1px 2px rgba(60, 64, 67, 0.3), 0px 1px 3px 1px rgba(60, 64, 67, 0.15);\n",
              "      fill: #174EA6;\n",
              "    }\n",
              "\n",
              "    [theme=dark] .colab-df-convert {\n",
              "      background-color: #3B4455;\n",
              "      fill: #D2E3FC;\n",
              "    }\n",
              "\n",
              "    [theme=dark] .colab-df-convert:hover {\n",
              "      background-color: #434B5C;\n",
              "      box-shadow: 0px 1px 3px 1px rgba(0, 0, 0, 0.15);\n",
              "      filter: drop-shadow(0px 1px 2px rgba(0, 0, 0, 0.3));\n",
              "      fill: #FFFFFF;\n",
              "    }\n",
              "  </style>\n",
              "\n",
              "      <script>\n",
              "        const buttonEl =\n",
              "          document.querySelector('#df-62c10a54-0090-4310-ba78-f325192b1aa5 button.colab-df-convert');\n",
              "        buttonEl.style.display =\n",
              "          google.colab.kernel.accessAllowed ? 'block' : 'none';\n",
              "\n",
              "        async function convertToInteractive(key) {\n",
              "          const element = document.querySelector('#df-62c10a54-0090-4310-ba78-f325192b1aa5');\n",
              "          const dataTable =\n",
              "            await google.colab.kernel.invokeFunction('convertToInteractive',\n",
              "                                                     [key], {});\n",
              "          if (!dataTable) return;\n",
              "\n",
              "          const docLinkHtml = 'Like what you see? Visit the ' +\n",
              "            '<a target=\"_blank\" href=https://colab.research.google.com/notebooks/data_table.ipynb>data table notebook</a>'\n",
              "            + ' to learn more about interactive tables.';\n",
              "          element.innerHTML = '';\n",
              "          dataTable['output_type'] = 'display_data';\n",
              "          await google.colab.output.renderOutput(dataTable, element);\n",
              "          const docLink = document.createElement('div');\n",
              "          docLink.innerHTML = docLinkHtml;\n",
              "          element.appendChild(docLink);\n",
              "        }\n",
              "      </script>\n",
              "    </div>\n",
              "  </div>\n",
              "  "
            ],
            "text/plain": [
              "       id    qid1    qid2                                          question1  \\\n",
              "0  216036  322068  322069  How can I sell at Snapdeal? What are the terms...   \n",
              "1  241554  353581  353582  Why are most prosecutors in American courts no...   \n",
              "2  208738  312815  312816  What are some good government jobs without a c...   \n",
              "3  102714  104282   77231  What would happen if humans no longer needed t...   \n",
              "4  397304  178955   34172                     How do I shave my bikini line?   \n",
              "\n",
              "                                           question2  is_duplicate  \\\n",
              "0  What are the payment terms for online marketpl...             0   \n",
              "1  Why does a country like USA where law enforcem...             0   \n",
              "2  Are there any good companies that hire smart p...             0   \n",
              "3  What would the world be like if humans didn't ...             1   \n",
              "4     What is the best way to shave the bikini area?             1   \n",
              "\n",
              "                                   question1_cleaned  \\\n",
              "0          How I sell Snapdeal What terms conditions   \n",
              "1  Why prosecutors American courts notoriously di...   \n",
              "2   What good government jobs without college degree   \n",
              "3       What would happen humans longer needed sleep   \n",
              "4                            How I shave bikini line   \n",
              "\n",
              "                                   question2_cleaned  \\\n",
              "0  What payment terms online marketplaces like Fl...   \n",
              "1  Why country like USA law enforcements strict l...   \n",
              "2  Are good companies hire smart people without c...   \n",
              "3      What would world like humans didnt need sleep   \n",
              "4                    What best way shave bikini area   \n",
              "\n",
              "                                         tokenizer_1  \\\n",
              "0                    [3, 2, 521, 4904, 1, 465, 3145]   \n",
              "1  [4, 28362, 291, 4729, 32475, 12230, 1099, 144,...   \n",
              "2                    [1, 13, 163, 333, 43, 124, 417]   \n",
              "3                 [1, 14, 118, 474, 1191, 1142, 411]   \n",
              "4                            [3, 2, 3378, 6389, 701]   \n",
              "\n",
              "                                         tokenizer_2  \n",
              "0  [1, 1602, 465, 46, 14381, 12, 2222, 7715, 4904...  \n",
              "1  [4, 134, 12, 207, 403, 75955, 6163, 2007, 1220...  \n",
              "2          [41, 13, 180, 796, 769, 10, 43, 124, 417]  \n",
              "3                 [1, 14, 49, 12, 474, 489, 91, 411]  \n",
              "4                        [1, 5, 17, 3378, 6389, 618]  "
            ]
          },
          "metadata": {},
          "execution_count": 11
        }
      ],
      "source": [
        "#stacking\n",
        "question_text = np.hstack([train_questions.question1_cleaned, train_questions.question2_cleaned])\n",
        "\n",
        "#tokenizing\n",
        "tokenizer = Tokenizer()\n",
        "tokenizer.fit_on_texts(question_text)\n",
        "\n",
        "#creating new columns for both ids where tokenized form of sentence is created\n",
        "train_questions['tokenizer_1'] = tokenizer.texts_to_sequences(train_questions.question1_cleaned)\n",
        "train_questions['tokenizer_2'] = tokenizer.texts_to_sequences(train_questions.question2_cleaned)\n",
        "\n",
        "validation_questions['tokenizer_1'] = tokenizer.texts_to_sequences(validation_questions.question1_cleaned)\n",
        "validation_questions['tokenizer_2'] = tokenizer.texts_to_sequences(validation_questions.question2_cleaned)\n",
        "\n",
        "test_questions['tokenizer_1'] = tokenizer.texts_to_sequences(test_questions.question1_cleaned)\n",
        "test_questions['tokenizer_2'] = tokenizer.texts_to_sequences(test_questions.question2_cleaned)\n",
        "\n",
        "train_questions.head(5)"
      ]
    },
    {
      "cell_type": "code",
      "execution_count": null,
      "metadata": {
        "colab": {
          "base_uri": "https://localhost:8080/",
          "height": 1000
        },
        "id": "MUrtSCfaRlWF",
        "outputId": "e876943a-b0cb-4251-8957-7ca82120a390"
      },
      "outputs": [
        {
          "output_type": "stream",
          "name": "stdout",
          "text": [
            "Max token:  75937\n"
          ]
        },
        {
          "output_type": "execute_result",
          "data": {
            "text/html": [
              "\n",
              "  <div id=\"df-e808f64a-7fc0-4d84-abb5-432faf1b822b\">\n",
              "    <div class=\"colab-df-container\">\n",
              "      <div>\n",
              "<style scoped>\n",
              "    .dataframe tbody tr th:only-of-type {\n",
              "        vertical-align: middle;\n",
              "    }\n",
              "\n",
              "    .dataframe tbody tr th {\n",
              "        vertical-align: top;\n",
              "    }\n",
              "\n",
              "    .dataframe thead th {\n",
              "        text-align: right;\n",
              "    }\n",
              "</style>\n",
              "<table border=\"1\" class=\"dataframe\">\n",
              "  <thead>\n",
              "    <tr style=\"text-align: right;\">\n",
              "      <th></th>\n",
              "      <th>id</th>\n",
              "      <th>qid1</th>\n",
              "      <th>qid2</th>\n",
              "      <th>question1</th>\n",
              "      <th>question2</th>\n",
              "      <th>is_duplicate</th>\n",
              "      <th>question1_cleaned</th>\n",
              "      <th>question2_cleaned</th>\n",
              "      <th>tokenizer_1</th>\n",
              "      <th>tokenizer_2</th>\n",
              "      <th>tokenizer</th>\n",
              "    </tr>\n",
              "  </thead>\n",
              "  <tbody>\n",
              "    <tr>\n",
              "      <th>0</th>\n",
              "      <td>216036</td>\n",
              "      <td>322068</td>\n",
              "      <td>322069</td>\n",
              "      <td>How can I sell at Snapdeal? What are the terms...</td>\n",
              "      <td>What are the payment terms for online marketpl...</td>\n",
              "      <td>0</td>\n",
              "      <td>How I sell Snapdeal What terms conditions</td>\n",
              "      <td>What payment terms online marketplaces like Fl...</td>\n",
              "      <td>[3, 2, 521, 4904, 1, 465, 3145]</td>\n",
              "      <td>[1, 1602, 465, 46, 14381, 12, 2222, 7715, 4904...</td>\n",
              "      <td>[3, 2, 521, 4904, 1, 465, 3145, 1, 1602, 465, ...</td>\n",
              "    </tr>\n",
              "    <tr>\n",
              "      <th>1</th>\n",
              "      <td>241554</td>\n",
              "      <td>353581</td>\n",
              "      <td>353582</td>\n",
              "      <td>Why are most prosecutors in American courts no...</td>\n",
              "      <td>Why does a country like USA where law enforcem...</td>\n",
              "      <td>0</td>\n",
              "      <td>Why prosecutors American courts notoriously di...</td>\n",
              "      <td>Why country like USA law enforcements strict l...</td>\n",
              "      <td>[4, 28362, 291, 4729, 32475, 12230, 1099, 144,...</td>\n",
              "      <td>[4, 134, 12, 207, 403, 75955, 6163, 2007, 1220...</td>\n",
              "      <td>[4, 28362, 291, 4729, 32475, 12230, 1099, 144,...</td>\n",
              "    </tr>\n",
              "    <tr>\n",
              "      <th>2</th>\n",
              "      <td>208738</td>\n",
              "      <td>312815</td>\n",
              "      <td>312816</td>\n",
              "      <td>What are some good government jobs without a c...</td>\n",
              "      <td>Are there any good companies that hire smart p...</td>\n",
              "      <td>0</td>\n",
              "      <td>What good government jobs without college degree</td>\n",
              "      <td>Are good companies hire smart people without c...</td>\n",
              "      <td>[1, 13, 163, 333, 43, 124, 417]</td>\n",
              "      <td>[41, 13, 180, 796, 769, 10, 43, 124, 417]</td>\n",
              "      <td>[1, 13, 163, 333, 43, 124, 417, 41, 13, 180, 7...</td>\n",
              "    </tr>\n",
              "    <tr>\n",
              "      <th>3</th>\n",
              "      <td>102714</td>\n",
              "      <td>104282</td>\n",
              "      <td>77231</td>\n",
              "      <td>What would happen if humans no longer needed t...</td>\n",
              "      <td>What would the world be like if humans didn't ...</td>\n",
              "      <td>1</td>\n",
              "      <td>What would happen humans longer needed sleep</td>\n",
              "      <td>What would world like humans didnt need sleep</td>\n",
              "      <td>[1, 14, 118, 474, 1191, 1142, 411]</td>\n",
              "      <td>[1, 14, 49, 12, 474, 489, 91, 411]</td>\n",
              "      <td>[1, 14, 118, 474, 1191, 1142, 411, 1, 14, 49, ...</td>\n",
              "    </tr>\n",
              "    <tr>\n",
              "      <th>4</th>\n",
              "      <td>397304</td>\n",
              "      <td>178955</td>\n",
              "      <td>34172</td>\n",
              "      <td>How do I shave my bikini line?</td>\n",
              "      <td>What is the best way to shave the bikini area?</td>\n",
              "      <td>1</td>\n",
              "      <td>How I shave bikini line</td>\n",
              "      <td>What best way shave bikini area</td>\n",
              "      <td>[3, 2, 3378, 6389, 701]</td>\n",
              "      <td>[1, 5, 17, 3378, 6389, 618]</td>\n",
              "      <td>[3, 2, 3378, 6389, 701, 1, 5, 17, 3378, 6389, ...</td>\n",
              "    </tr>\n",
              "    <tr>\n",
              "      <th>...</th>\n",
              "      <td>...</td>\n",
              "      <td>...</td>\n",
              "      <td>...</td>\n",
              "      <td>...</td>\n",
              "      <td>...</td>\n",
              "      <td>...</td>\n",
              "      <td>...</td>\n",
              "      <td>...</td>\n",
              "      <td>...</td>\n",
              "      <td>...</td>\n",
              "      <td>...</td>\n",
              "    </tr>\n",
              "    <tr>\n",
              "      <th>323426</th>\n",
              "      <td>189944</td>\n",
              "      <td>8395</td>\n",
              "      <td>34814</td>\n",
              "      <td>Is it true that the US is funding ISIS?</td>\n",
              "      <td>Is it really true that US is backing ISIS?</td>\n",
              "      <td>1</td>\n",
              "      <td>Is true US funding ISIS</td>\n",
              "      <td>Is really true US backing ISIS</td>\n",
              "      <td>[6, 179, 37, 1577, 1303]</td>\n",
              "      <td>[6, 78, 179, 37, 10458, 1303]</td>\n",
              "      <td>[6, 179, 37, 1577, 1303, 6, 78, 179, 37, 10458...</td>\n",
              "    </tr>\n",
              "    <tr>\n",
              "      <th>323427</th>\n",
              "      <td>330730</td>\n",
              "      <td>110579</td>\n",
              "      <td>457526</td>\n",
              "      <td>How do I play in share market in India?</td>\n",
              "      <td>How can I study and invest in the Indian share...</td>\n",
              "      <td>0</td>\n",
              "      <td>How I play share market India</td>\n",
              "      <td>How I study invest Indian share market</td>\n",
              "      <td>[3, 2, 230, 675, 292, 9]</td>\n",
              "      <td>[3, 2, 149, 490, 36, 675, 292]</td>\n",
              "      <td>[3, 2, 230, 675, 292, 9, 3, 2, 149, 490, 36, 6...</td>\n",
              "    </tr>\n",
              "    <tr>\n",
              "      <th>323428</th>\n",
              "      <td>143114</td>\n",
              "      <td>226824</td>\n",
              "      <td>175127</td>\n",
              "      <td>What is the difference between laundry deterge...</td>\n",
              "      <td>How safe is it to use non-HE detergent in a HE...</td>\n",
              "      <td>0</td>\n",
              "      <td>What difference laundry detergent bleach laund...</td>\n",
              "      <td>How safe use nonHE detergent HE laundry washer</td>\n",
              "      <td>[1, 27, 7494, 6194, 3492, 7494, 6194, 43, 3492]</td>\n",
              "      <td>[3, 203, 31, 36565, 6194, 1288, 7494, 10331]</td>\n",
              "      <td>[1, 27, 7494, 6194, 3492, 7494, 6194, 43, 3492...</td>\n",
              "    </tr>\n",
              "    <tr>\n",
              "      <th>323429</th>\n",
              "      <td>10918</td>\n",
              "      <td>21121</td>\n",
              "      <td>21122</td>\n",
              "      <td>Would you consider teaching as a full time job...</td>\n",
              "      <td>Would you consider teaching as a full time job?</td>\n",
              "      <td>1</td>\n",
              "      <td>Would consider teaching full time job Why</td>\n",
              "      <td>Would consider teaching full time job</td>\n",
              "      <td>[14, 994, 2741, 622, 24, 53, 4]</td>\n",
              "      <td>[14, 994, 2741, 622, 24, 53]</td>\n",
              "      <td>[14, 994, 2741, 622, 24, 53, 4, 14, 994, 2741,...</td>\n",
              "    </tr>\n",
              "    <tr>\n",
              "      <th>323430</th>\n",
              "      <td>57378</td>\n",
              "      <td>100834</td>\n",
              "      <td>100835</td>\n",
              "      <td>What drugs are readily accessible in Canada ov...</td>\n",
              "      <td>What legal drugs (i.e. bought 'over the counte...</td>\n",
              "      <td>0</td>\n",
              "      <td>What drugs readily accessible Canada counter r...</td>\n",
              "      <td>What legal drugs ie bought counter cause loss ...</td>\n",
              "      <td>[1, 2155, 10634, 9056, 435, 3896, 2004, 886, 4...</td>\n",
              "      <td>[1, 462, 2155, 2162, 2290, 3896, 381, 691, 8576]</td>\n",
              "      <td>[1, 2155, 10634, 9056, 435, 3896, 2004, 886, 4...</td>\n",
              "    </tr>\n",
              "  </tbody>\n",
              "</table>\n",
              "<p>323431 rows × 11 columns</p>\n",
              "</div>\n",
              "      <button class=\"colab-df-convert\" onclick=\"convertToInteractive('df-e808f64a-7fc0-4d84-abb5-432faf1b822b')\"\n",
              "              title=\"Convert this dataframe to an interactive table.\"\n",
              "              style=\"display:none;\">\n",
              "        \n",
              "  <svg xmlns=\"http://www.w3.org/2000/svg\" height=\"24px\"viewBox=\"0 0 24 24\"\n",
              "       width=\"24px\">\n",
              "    <path d=\"M0 0h24v24H0V0z\" fill=\"none\"/>\n",
              "    <path d=\"M18.56 5.44l.94 2.06.94-2.06 2.06-.94-2.06-.94-.94-2.06-.94 2.06-2.06.94zm-11 1L8.5 8.5l.94-2.06 2.06-.94-2.06-.94L8.5 2.5l-.94 2.06-2.06.94zm10 10l.94 2.06.94-2.06 2.06-.94-2.06-.94-.94-2.06-.94 2.06-2.06.94z\"/><path d=\"M17.41 7.96l-1.37-1.37c-.4-.4-.92-.59-1.43-.59-.52 0-1.04.2-1.43.59L10.3 9.45l-7.72 7.72c-.78.78-.78 2.05 0 2.83L4 21.41c.39.39.9.59 1.41.59.51 0 1.02-.2 1.41-.59l7.78-7.78 2.81-2.81c.8-.78.8-2.07 0-2.86zM5.41 20L4 18.59l7.72-7.72 1.47 1.35L5.41 20z\"/>\n",
              "  </svg>\n",
              "      </button>\n",
              "      \n",
              "  <style>\n",
              "    .colab-df-container {\n",
              "      display:flex;\n",
              "      flex-wrap:wrap;\n",
              "      gap: 12px;\n",
              "    }\n",
              "\n",
              "    .colab-df-convert {\n",
              "      background-color: #E8F0FE;\n",
              "      border: none;\n",
              "      border-radius: 50%;\n",
              "      cursor: pointer;\n",
              "      display: none;\n",
              "      fill: #1967D2;\n",
              "      height: 32px;\n",
              "      padding: 0 0 0 0;\n",
              "      width: 32px;\n",
              "    }\n",
              "\n",
              "    .colab-df-convert:hover {\n",
              "      background-color: #E2EBFA;\n",
              "      box-shadow: 0px 1px 2px rgba(60, 64, 67, 0.3), 0px 1px 3px 1px rgba(60, 64, 67, 0.15);\n",
              "      fill: #174EA6;\n",
              "    }\n",
              "\n",
              "    [theme=dark] .colab-df-convert {\n",
              "      background-color: #3B4455;\n",
              "      fill: #D2E3FC;\n",
              "    }\n",
              "\n",
              "    [theme=dark] .colab-df-convert:hover {\n",
              "      background-color: #434B5C;\n",
              "      box-shadow: 0px 1px 3px 1px rgba(0, 0, 0, 0.15);\n",
              "      filter: drop-shadow(0px 1px 2px rgba(0, 0, 0, 0.3));\n",
              "      fill: #FFFFFF;\n",
              "    }\n",
              "  </style>\n",
              "\n",
              "      <script>\n",
              "        const buttonEl =\n",
              "          document.querySelector('#df-e808f64a-7fc0-4d84-abb5-432faf1b822b button.colab-df-convert');\n",
              "        buttonEl.style.display =\n",
              "          google.colab.kernel.accessAllowed ? 'block' : 'none';\n",
              "\n",
              "        async function convertToInteractive(key) {\n",
              "          const element = document.querySelector('#df-e808f64a-7fc0-4d84-abb5-432faf1b822b');\n",
              "          const dataTable =\n",
              "            await google.colab.kernel.invokeFunction('convertToInteractive',\n",
              "                                                     [key], {});\n",
              "          if (!dataTable) return;\n",
              "\n",
              "          const docLinkHtml = 'Like what you see? Visit the ' +\n",
              "            '<a target=\"_blank\" href=https://colab.research.google.com/notebooks/data_table.ipynb>data table notebook</a>'\n",
              "            + ' to learn more about interactive tables.';\n",
              "          element.innerHTML = '';\n",
              "          dataTable['output_type'] = 'display_data';\n",
              "          await google.colab.output.renderOutput(dataTable, element);\n",
              "          const docLink = document.createElement('div');\n",
              "          docLink.innerHTML = docLinkHtml;\n",
              "          element.appendChild(docLink);\n",
              "        }\n",
              "      </script>\n",
              "    </div>\n",
              "  </div>\n",
              "  "
            ],
            "text/plain": [
              "            id    qid1    qid2  \\\n",
              "0       216036  322068  322069   \n",
              "1       241554  353581  353582   \n",
              "2       208738  312815  312816   \n",
              "3       102714  104282   77231   \n",
              "4       397304  178955   34172   \n",
              "...        ...     ...     ...   \n",
              "323426  189944    8395   34814   \n",
              "323427  330730  110579  457526   \n",
              "323428  143114  226824  175127   \n",
              "323429   10918   21121   21122   \n",
              "323430   57378  100834  100835   \n",
              "\n",
              "                                                question1  \\\n",
              "0       How can I sell at Snapdeal? What are the terms...   \n",
              "1       Why are most prosecutors in American courts no...   \n",
              "2       What are some good government jobs without a c...   \n",
              "3       What would happen if humans no longer needed t...   \n",
              "4                          How do I shave my bikini line?   \n",
              "...                                                   ...   \n",
              "323426            Is it true that the US is funding ISIS?   \n",
              "323427            How do I play in share market in India?   \n",
              "323428  What is the difference between laundry deterge...   \n",
              "323429  Would you consider teaching as a full time job...   \n",
              "323430  What drugs are readily accessible in Canada ov...   \n",
              "\n",
              "                                                question2  is_duplicate  \\\n",
              "0       What are the payment terms for online marketpl...             0   \n",
              "1       Why does a country like USA where law enforcem...             0   \n",
              "2       Are there any good companies that hire smart p...             0   \n",
              "3       What would the world be like if humans didn't ...             1   \n",
              "4          What is the best way to shave the bikini area?             1   \n",
              "...                                                   ...           ...   \n",
              "323426         Is it really true that US is backing ISIS?             1   \n",
              "323427  How can I study and invest in the Indian share...             0   \n",
              "323428  How safe is it to use non-HE detergent in a HE...             0   \n",
              "323429    Would you consider teaching as a full time job?             1   \n",
              "323430  What legal drugs (i.e. bought 'over the counte...             0   \n",
              "\n",
              "                                        question1_cleaned  \\\n",
              "0               How I sell Snapdeal What terms conditions   \n",
              "1       Why prosecutors American courts notoriously di...   \n",
              "2        What good government jobs without college degree   \n",
              "3            What would happen humans longer needed sleep   \n",
              "4                                 How I shave bikini line   \n",
              "...                                                   ...   \n",
              "323426                            Is true US funding ISIS   \n",
              "323427                      How I play share market India   \n",
              "323428  What difference laundry detergent bleach laund...   \n",
              "323429          Would consider teaching full time job Why   \n",
              "323430  What drugs readily accessible Canada counter r...   \n",
              "\n",
              "                                        question2_cleaned  \\\n",
              "0       What payment terms online marketplaces like Fl...   \n",
              "1       Why country like USA law enforcements strict l...   \n",
              "2       Are good companies hire smart people without c...   \n",
              "3           What would world like humans didnt need sleep   \n",
              "4                         What best way shave bikini area   \n",
              "...                                                   ...   \n",
              "323426                     Is really true US backing ISIS   \n",
              "323427             How I study invest Indian share market   \n",
              "323428     How safe use nonHE detergent HE laundry washer   \n",
              "323429              Would consider teaching full time job   \n",
              "323430  What legal drugs ie bought counter cause loss ...   \n",
              "\n",
              "                                              tokenizer_1  \\\n",
              "0                         [3, 2, 521, 4904, 1, 465, 3145]   \n",
              "1       [4, 28362, 291, 4729, 32475, 12230, 1099, 144,...   \n",
              "2                         [1, 13, 163, 333, 43, 124, 417]   \n",
              "3                      [1, 14, 118, 474, 1191, 1142, 411]   \n",
              "4                                 [3, 2, 3378, 6389, 701]   \n",
              "...                                                   ...   \n",
              "323426                           [6, 179, 37, 1577, 1303]   \n",
              "323427                           [3, 2, 230, 675, 292, 9]   \n",
              "323428    [1, 27, 7494, 6194, 3492, 7494, 6194, 43, 3492]   \n",
              "323429                    [14, 994, 2741, 622, 24, 53, 4]   \n",
              "323430  [1, 2155, 10634, 9056, 435, 3896, 2004, 886, 4...   \n",
              "\n",
              "                                              tokenizer_2  \\\n",
              "0       [1, 1602, 465, 46, 14381, 12, 2222, 7715, 4904...   \n",
              "1       [4, 134, 12, 207, 403, 75955, 6163, 2007, 1220...   \n",
              "2               [41, 13, 180, 796, 769, 10, 43, 124, 417]   \n",
              "3                      [1, 14, 49, 12, 474, 489, 91, 411]   \n",
              "4                             [1, 5, 17, 3378, 6389, 618]   \n",
              "...                                                   ...   \n",
              "323426                      [6, 78, 179, 37, 10458, 1303]   \n",
              "323427                     [3, 2, 149, 490, 36, 675, 292]   \n",
              "323428       [3, 203, 31, 36565, 6194, 1288, 7494, 10331]   \n",
              "323429                       [14, 994, 2741, 622, 24, 53]   \n",
              "323430   [1, 462, 2155, 2162, 2290, 3896, 381, 691, 8576]   \n",
              "\n",
              "                                                tokenizer  \n",
              "0       [3, 2, 521, 4904, 1, 465, 3145, 1, 1602, 465, ...  \n",
              "1       [4, 28362, 291, 4729, 32475, 12230, 1099, 144,...  \n",
              "2       [1, 13, 163, 333, 43, 124, 417, 41, 13, 180, 7...  \n",
              "3       [1, 14, 118, 474, 1191, 1142, 411, 1, 14, 49, ...  \n",
              "4       [3, 2, 3378, 6389, 701, 1, 5, 17, 3378, 6389, ...  \n",
              "...                                                   ...  \n",
              "323426  [6, 179, 37, 1577, 1303, 6, 78, 179, 37, 10458...  \n",
              "323427  [3, 2, 230, 675, 292, 9, 3, 2, 149, 490, 36, 6...  \n",
              "323428  [1, 27, 7494, 6194, 3492, 7494, 6194, 43, 3492...  \n",
              "323429  [14, 994, 2741, 622, 24, 53, 4, 14, 994, 2741,...  \n",
              "323430  [1, 2155, 10634, 9056, 435, 3896, 2004, 886, 4...  \n",
              "\n",
              "[323431 rows x 11 columns]"
            ]
          },
          "metadata": {},
          "execution_count": 12
        }
      ],
      "source": [
        "train_questions['tokenizer'] = train_questions['tokenizer_1'] + train_questions['tokenizer_2']\n",
        "validation_questions['tokenizer'] = validation_questions['tokenizer_1'] + validation_questions['tokenizer_2']\n",
        "test_questions['tokenizer'] = test_questions['tokenizer_1'] + test_questions['tokenizer_2']\n",
        "\n",
        "# defining max length\n",
        "m_len = 25\n",
        "\n",
        "# max tokens\n",
        "max_token = np.max(train_questions.tokenizer.max())\n",
        "print(\"Max token: \", max_token)\n",
        "train_questions"
      ]
    },
    {
      "cell_type": "markdown",
      "metadata": {
        "id": "L5S8_469edhp"
      },
      "source": [
        "# Download pre-trained word embeddings (word2vec)\n",
        "Let's download pre-trained word2vec. Token based text embedding trained on English Wikipedia corpus"
      ]
    },
    {
      "cell_type": "code",
      "execution_count": null,
      "metadata": {
        "colab": {
          "base_uri": "https://localhost:8080/"
        },
        "id": "OZVUP8W3ek1v",
        "outputId": "77f7d07e-6bc3-4065-a84e-a8838f5d6eac"
      },
      "outputs": [
        {
          "name": "stdout",
          "output_type": "stream",
          "text": [
            "Requirement already satisfied: gensim in /usr/local/lib/python3.7/dist-packages (3.6.0)\n",
            "Requirement already satisfied: numpy>=1.11.3 in /usr/local/lib/python3.7/dist-packages (from gensim) (1.21.5)\n",
            "Requirement already satisfied: six>=1.5.0 in /usr/local/lib/python3.7/dist-packages (from gensim) (1.15.0)\n",
            "Requirement already satisfied: scipy>=0.18.1 in /usr/local/lib/python3.7/dist-packages (from gensim) (1.4.1)\n",
            "Requirement already satisfied: smart-open>=1.2.1 in /usr/local/lib/python3.7/dist-packages (from gensim) (5.2.1)\n"
          ]
        }
      ],
      "source": [
        "!pip3 install gensim"
      ]
    },
    {
      "cell_type": "code",
      "execution_count": null,
      "metadata": {
        "colab": {
          "base_uri": "https://localhost:8080/"
        },
        "id": "nN905e2cKLcJ",
        "outputId": "0730b02d-494c-487e-9371-be87c56e875b"
      },
      "outputs": [
        {
          "name": "stdout",
          "output_type": "stream",
          "text": [
            "[==================================================] 100.0% 1662.8/1662.8MB downloaded\n"
          ]
        }
      ],
      "source": [
        "import gensim.downloader\n",
        "word2vec = gensim.downloader.load('word2vec-google-news-300')"
      ]
    },
    {
      "cell_type": "code",
      "execution_count": null,
      "metadata": {
        "id": "b13Lm3r3LULj"
      },
      "outputs": [],
      "source": [
        "word_vectors = word2vec.wv"
      ]
    },
    {
      "cell_type": "markdown",
      "metadata": {
        "id": "rB6rQompgLsZ"
      },
      "source": [
        "Now, let's prepare a corresponding embedding matrix that we can use in a Keras Embedding layer. It's a simple NumPy matrix where entry at index $i$ is the pre-trained vector for the word of index $i$ in our tokenizer's vocabulary."
      ]
    },
    {
      "cell_type": "code",
      "execution_count": null,
      "metadata": {
        "colab": {
          "base_uri": "https://localhost:8080/"
        },
        "id": "SEgsZKfogYIF",
        "outputId": "bd6e6f5c-9a9f-4f22-8b69-7ed1821fedd5"
      },
      "outputs": [
        {
          "name": "stdout",
          "output_type": "stream",
          "text": [
            "Converted 46122 words (50566 misses)\n"
          ]
        }
      ],
      "source": [
        "num_tokens = len(tokenizer.word_index) + 1\n",
        "embedding_dim = 300\n",
        "hits = 0\n",
        "misses = 0\n",
        "\n",
        "# Prepare embedding matrix\n",
        "embedding_matrix = np.zeros((num_tokens, embedding_dim))\n",
        "for word, i in tokenizer.word_index.items():\n",
        "  try:\n",
        "    embedding_vector = word_vectors.get_vector(word)\n",
        "    embedding_matrix[i] = embedding_vector\n",
        "    hits += 1\n",
        "  except:\n",
        "    # Words not found in embedding index will be all-zeros.\n",
        "    # This includes the representation for \"padding\" and \"OOV\"\n",
        "    misses += 1\n",
        "print(\"Converted %d words (%d misses)\" % (hits, misses))"
      ]
    },
    {
      "cell_type": "markdown",
      "metadata": {
        "id": "ugIP2xEakKjU"
      },
      "source": [
        "Next, we load the pre-trained word embeddings matrix into an Embedding layer.\n",
        "\n",
        "Note that we set `trainable=False` so as to keep the embeddings fixed (we don't want to update them during training)."
      ]
    },
    {
      "cell_type": "code",
      "execution_count": null,
      "metadata": {
        "colab": {
          "background_save": true
        },
        "id": "HCI2k2gQjncd"
      },
      "outputs": [],
      "source": [
        "embedding_layer = layers.Embedding(\n",
        "    num_tokens,\n",
        "    embedding_dim,\n",
        "    input_length=(m_len,),\n",
        "    weights=[embedding_matrix],\n",
        "    trainable=False,\n",
        ")"
      ]
    },
    {
      "cell_type": "markdown",
      "metadata": {
        "id": "zmWYzHuKObXc"
      },
      "source": [
        "### Experiment 1: LSTM"
      ]
    },
    {
      "cell_type": "code",
      "execution_count": null,
      "metadata": {
        "id": "GD4eAqq0ObX4"
      },
      "outputs": [],
      "source": [
        "lstm_units = 50"
      ]
    },
    {
      "cell_type": "code",
      "execution_count": null,
      "metadata": {
        "id": "oakpDkwvObX5"
      },
      "outputs": [],
      "source": [
        "lstm_layer = layers.LSTM(lstm_units)"
      ]
    },
    {
      "cell_type": "code",
      "execution_count": null,
      "metadata": {
        "colab": {
          "base_uri": "https://localhost:8080/"
        },
        "id": "s_iFVZ7NObX5",
        "outputId": "3631ae8a-6e24-4475-b065-31b73fcaaedd"
      },
      "outputs": [
        {
          "name": "stdout",
          "output_type": "stream",
          "text": [
            "Model: \"model\"\n",
            "__________________________________________________________________________________________________\n",
            " Layer (type)                   Output Shape         Param #     Connected to                     \n",
            "==================================================================================================\n",
            " input_left (InputLayer)        [(None, 25)]         0           []                               \n",
            "                                                                                                  \n",
            " input_right (InputLayer)       [(None, 25)]         0           []                               \n",
            "                                                                                                  \n",
            " embedding (Embedding)          (None, 25, 300)      29006700    ['input_left[0][0]',             \n",
            "                                                                  'input_right[0][0]']            \n",
            "                                                                                                  \n",
            " lstm (LSTM)                    (None, 50)           70200       ['embedding[0][0]',              \n",
            "                                                                  'embedding[1][0]']              \n",
            "                                                                                                  \n",
            " Manhattan_Distance (Lambda)    (None, 50)           0           ['lstm[0][0]',                   \n",
            "                                                                  'lstm[1][0]']                   \n",
            "                                                                                                  \n",
            " dense (Dense)                  (None, 1)            51          ['Manhattan_Distance[0][0]']     \n",
            "                                                                                                  \n",
            "==================================================================================================\n",
            "Total params: 29,076,951\n",
            "Trainable params: 70,251\n",
            "Non-trainable params: 29,006,700\n",
            "__________________________________________________________________________________________________\n"
          ]
        }
      ],
      "source": [
        "input_left = layers.Input(shape=(m_len,), name=\"input_left\")\n",
        "embedded_sequences_left = embedding_layer(input_left)\n",
        "lstm_left = lstm_layer(embedded_sequences_left)\n",
        "input_right = layers.Input(shape=(m_len,), name=\"input_right\")\n",
        "embedded_sequences_right = embedding_layer(input_right)\n",
        "lstm_2 = lstm_layer(embedded_sequences_right)\n",
        "mhd = lambda x: keras.backend.abs(x[0] - x[1]) # Manhattan Distance\n",
        "merged = layers.Lambda(function=mhd, output_shape=lambda x: x[0], name='Manhattan_Distance')([lstm_left, lstm_2])\n",
        "preds = layers.Dense(1, activation='sigmoid')(merged)\n",
        "model = Model(inputs=[input_left, input_right], outputs=preds)\n",
        "compile_model(model, loss='mse')"
      ]
    },
    {
      "cell_type": "code",
      "execution_count": null,
      "metadata": {
        "colab": {
          "base_uri": "https://localhost:8080/",
          "height": 686
        },
        "id": "xLnmJdyyObX7",
        "outputId": "1080ceb6-5255-4c52-ec4d-90e60a16c288"
      },
      "outputs": [
        {
          "data": {
            "image/png": "[encoded data removed]",
            "text/plain": [
              "<IPython.core.display.Image object>"
            ]
          },
          "execution_count": 40,
          "metadata": {},
          "output_type": "execute_result"
        }
      ],
      "source": [
        "tf.keras.utils.plot_model(model, show_shapes=True, show_dtype=True, expand_nested=True)"
      ]
    },
    {
      "cell_type": "code",
      "execution_count": null,
      "metadata": {
        "id": "zVzoL-HAOlHL"
      },
      "outputs": [],
      "source": [
        "def get_samples(df, max_length):\n",
        "  left = df[['tokenizer_1']]\n",
        "  right = df[['tokenizer_2']]\n",
        "  return sequence.pad_sequences(left.tokenizer_1, maxlen = max_length, padding='post', truncating='post'), sequence.pad_sequences(right.tokenizer_2, maxlen=max_length, padding='post', truncating='post')"
      ]
    },
    {
      "cell_type": "code",
      "execution_count": null,
      "metadata": {
        "id": "EFnNoRV4OlHM"
      },
      "outputs": [],
      "source": [
        "x_train_left, x_train_right = get_samples(train_questions, m_len)\n",
        "y_train = train_questions[['is_duplicate']]\n",
        "\n",
        "x_val_left, x_val_right = get_samples(validation_questions, m_len)\n",
        "y_val = validation_questions[['is_duplicate']]\n",
        "\n",
        "x_test_left, x_test_right = get_samples(test_questions, m_len)\n",
        "y_test = test_questions[['is_duplicate']]"
      ]
    },
    {
      "cell_type": "code",
      "execution_count": null,
      "metadata": {
        "colab": {
          "base_uri": "https://localhost:8080/"
        },
        "id": "YK0X_80OOlHN",
        "outputId": "8aae004e-187f-41c5-9eb3-52fe600f0b6f"
      },
      "outputs": [
        {
          "data": {
            "text/plain": [
              "True"
            ]
          },
          "execution_count": 20,
          "metadata": {},
          "output_type": "execute_result"
        }
      ],
      "source": [
        "x_train_left.shape == x_train_right.shape"
      ]
    },
    {
      "cell_type": "code",
      "execution_count": null,
      "metadata": {
        "colab": {
          "base_uri": "https://localhost:8080/"
        },
        "id": "dKLC7bLvOlHP",
        "outputId": "2d6f33c7-3aa8-4892-f932-692f71530ded"
      },
      "outputs": [
        {
          "data": {
            "text/plain": [
              "True"
            ]
          },
          "execution_count": 21,
          "metadata": {},
          "output_type": "execute_result"
        }
      ],
      "source": [
        "len(x_train_left) == len(y_train)"
      ]
    },
    {
      "cell_type": "code",
      "execution_count": null,
      "metadata": {
        "id": "7UQ6rcYIOlHP"
      },
      "outputs": [],
      "source": [
        "run_model(model, \"siamese_lstm_word2vec-300_m-len-25\", [x_train_left, x_train_right], y_train, [x_val_left, x_val_right], y_val, epochs = 10)"
      ]
    },
    {
      "cell_type": "code",
      "execution_count": null,
      "metadata": {
        "id": "R7pBt1FFfKJq"
      },
      "outputs": [],
      "source": [
        "model = keras.models.load_model(os.path.join(GLOBAL_MODELS_FOLDER, 'siamese_lstm_word2vec-300_m-len-25.h5'))"
      ]
    },
    {
      "cell_type": "code",
      "execution_count": null,
      "metadata": {
        "colab": {
          "base_uri": "https://localhost:8080/",
          "height": 730
        },
        "id": "dfNOsIi3OlHQ",
        "outputId": "afb97b46-24a0-4a87-e5dc-38a205791cf1"
      },
      "outputs": [
        {
          "name": "stdout",
          "output_type": "stream",
          "text": [
            "Classification report: \n",
            "              precision    recall  f1-score   support\n",
            "\n",
            "           0     0.8476    0.8562    0.8519     25348\n",
            "           1     0.7541    0.7412    0.7476     15080\n",
            "\n",
            "    accuracy                         0.8133     40428\n",
            "   macro avg     0.8009    0.7987    0.7997     40428\n",
            "weighted avg     0.8127    0.8133    0.8130     40428\n",
            "\n"
          ]
        },
        {
          "data": {
            "image/png": "[encoded data removed]",
            "text/plain": [
              "<Figure size 432x288 with 2 Axes>"
            ]
          },
          "metadata": {},
          "output_type": "display_data"
        },
        {
          "data": {
            "image/png": "[encoded data removed]",
            "text/plain": [
              "<Figure size 432x288 with 1 Axes>"
            ]
          },
          "metadata": {},
          "output_type": "display_data"
        }
      ],
      "source": [
        "evaluate_model(model, [x_test_left, x_test_right], y_test)"
      ]
    },
    {
      "cell_type": "code",
      "execution_count": null,
      "metadata": {
        "colab": {
          "base_uri": "https://localhost:8080/",
          "height": 981
        },
        "id": "7dIfAoE1gRzv",
        "outputId": "50e618da-fde9-4635-eb15-5ce3099540fe"
      },
      "outputs": [
        {
          "name": "stdout",
          "output_type": "stream",
          "text": [
            "Epoch 1/10\n",
            "5053/5054 [============================>.] - ETA: 0s - loss: 0.1083 - accuracy: 0.8587\n",
            "Epoch 1: val_loss improved from inf to 0.13467, saving model to /content/Models/siamese_lstm_word2vec_2-300_m-len-25.h5\n",
            "5054/5054 [==============================] - 335s 66ms/step - loss: 0.1083 - accuracy: 0.8587 - val_loss: 0.1347 - val_accuracy: 0.8169\n",
            "Epoch 2/10\n",
            "5053/5054 [============================>.] - ETA: 0s - loss: 0.1050 - accuracy: 0.8647\n",
            "Epoch 2: val_loss did not improve from 0.13467\n",
            "5054/5054 [==============================] - 324s 64ms/step - loss: 0.1050 - accuracy: 0.8647 - val_loss: 0.1349 - val_accuracy: 0.8160\n",
            "Epoch 3/10\n",
            "5053/5054 [============================>.] - ETA: 0s - loss: 0.1019 - accuracy: 0.8701\n",
            "Epoch 3: val_loss did not improve from 0.13467\n",
            "5054/5054 [==============================] - 325s 64ms/step - loss: 0.1019 - accuracy: 0.8701 - val_loss: 0.1361 - val_accuracy: 0.8158\n",
            "Epoch 4/10\n",
            "5053/5054 [============================>.] - ETA: 0s - loss: 0.0992 - accuracy: 0.8742\n",
            "Epoch 4: val_loss did not improve from 0.13467\n",
            "5054/5054 [==============================] - 325s 64ms/step - loss: 0.0992 - accuracy: 0.8742 - val_loss: 0.1374 - val_accuracy: 0.8157\n",
            "Epoch 5/10\n",
            "5053/5054 [============================>.] - ETA: 0s - loss: 0.0964 - accuracy: 0.8790\n",
            "Epoch 5: val_loss did not improve from 0.13467\n",
            "5054/5054 [==============================] - 328s 65ms/step - loss: 0.0964 - accuracy: 0.8790 - val_loss: 0.1378 - val_accuracy: 0.8159\n",
            "Epoch 6/10\n",
            "5053/5054 [============================>.] - ETA: 0s - loss: 0.0939 - accuracy: 0.8833\n",
            "Epoch 6: val_loss did not improve from 0.13467\n",
            "5054/5054 [==============================] - 335s 66ms/step - loss: 0.0939 - accuracy: 0.8833 - val_loss: 0.1394 - val_accuracy: 0.8142\n"
          ]
        },
        {
          "data": {
            "image/png": "[encoded data removed]",
            "text/plain": [
              "<Figure size 432x288 with 1 Axes>"
            ]
          },
          "metadata": {},
          "output_type": "display_data"
        },
        {
          "data": {
            "image/png": "[encoded data removed]",
            "text/plain": [
              "<Figure size 432x288 with 1 Axes>"
            ]
          },
          "metadata": {},
          "output_type": "display_data"
        }
      ],
      "source": [
        "run_model(model, \"siamese_lstm_word2vec_2-300_m-len-25\", [x_train_left, x_train_right], y_train, [x_val_left, x_val_right], y_val, epochs = 10)"
      ]
    },
    {
      "cell_type": "code",
      "execution_count": null,
      "metadata": {
        "id": "GS09ndMV1BC9"
      },
      "outputs": [],
      "source": [
        "with open(os.path.join(HISTORIES_FOLDER, 'siamese_lstm_word2vec-300_m-len-25.csv'), newline='') as csvfile:\n",
        "  history1 = pd.read_csv(csvfile)\n",
        "\n",
        "with open(os.path.join(HISTORIES_FOLDER, 'siamese_lstm_word2vec_2-300_m-len-25.csv'), newline='') as csvfile:\n",
        "  history2 = pd.read_csv(csvfile)"
      ]
    },
    {
      "cell_type": "code",
      "execution_count": null,
      "metadata": {
        "id": "qm82wJXH14fN"
      },
      "outputs": [],
      "source": [
        "history = history1.append(history2)"
      ]
    },
    {
      "cell_type": "code",
      "execution_count": null,
      "metadata": {
        "colab": {
          "base_uri": "https://localhost:8080/",
          "height": 545
        },
        "id": "Sqb2K9wr1ftG",
        "outputId": "f1b74327-f7bc-41e5-9eff-5c01f8c23d48"
      },
      "outputs": [
        {
          "data": {
            "image/png": "[encoded data removed]",
            "text/plain": [
              "<Figure size 432x288 with 1 Axes>"
            ]
          },
          "metadata": {},
          "output_type": "display_data"
        },
        {
          "data": {
            "image/png": "[encoded data removed]",
            "text/plain": [
              "<Figure size 432x288 with 1 Axes>"
            ]
          },
          "metadata": {},
          "output_type": "display_data"
        }
      ],
      "source": [
        "acc = history['accuracy']\n",
        "val_acc = history['val_accuracy']\n",
        "loss = history['loss']\n",
        "val_loss = history['val_loss']\n",
        "\n",
        "epochs = range(len(acc))\n",
        "\n",
        "plt.plot(epochs, acc, 'bo', label='Training accuracy')\n",
        "plt.plot(epochs, val_acc, 'b', label='Validation accuracy')\n",
        "plt.title('Training and validation accuracy')\n",
        "plt.legend()\n",
        "\n",
        "plt.figure()\n",
        "\n",
        "plt.plot(epochs, loss, 'bo', label='Training loss')\n",
        "plt.plot(epochs, val_loss, 'b', label='Validation loss')\n",
        "plt.title('Training and validation loss')\n",
        "plt.legend()\n",
        "\n",
        "plt.show()"
      ]
    },
    {
      "cell_type": "code",
      "execution_count": null,
      "metadata": {
        "colab": {
          "base_uri": "https://localhost:8080/",
          "height": 730
        },
        "id": "TcWe98ZbvZPl",
        "outputId": "a06ff64b-ac66-406b-be2e-224fdc8e08a1"
      },
      "outputs": [
        {
          "name": "stdout",
          "output_type": "stream",
          "text": [
            "Classification report: \n",
            "              precision    recall  f1-score   support\n",
            "\n",
            "           0     0.8689    0.8261    0.8469     25348\n",
            "           1     0.7300    0.7905    0.7591     15080\n",
            "\n",
            "    accuracy                         0.8128     40428\n",
            "   macro avg     0.7995    0.8083    0.8030     40428\n",
            "weighted avg     0.8171    0.8128    0.8142     40428\n",
            "\n"
          ]
        },
        {
          "data": {
            "image/png": "[encoded data removed]",
            "text/plain": [
              "<Figure size 432x288 with 2 Axes>"
            ]
          },
          "metadata": {},
          "output_type": "display_data"
        },
        {
          "data": {
            "image/png": "[encoded data removed]",
            "text/plain": [
              "<Figure size 432x288 with 1 Axes>"
            ]
          },
          "metadata": {},
          "output_type": "display_data"
        }
      ],
      "source": [
        "evaluate_model(model, [x_test_left, x_test_right], y_test)"
      ]
    },
    {
      "cell_type": "markdown",
      "metadata": {
        "id": "SIiCrhdUkNr0"
      },
      "source": [
        "### Experiment 2: Bi-directional LSTM"
      ]
    },
    {
      "cell_type": "code",
      "execution_count": null,
      "metadata": {
        "id": "jqHlWC-glyMV"
      },
      "outputs": [],
      "source": [
        "lstm_units = 10"
      ]
    },
    {
      "cell_type": "code",
      "execution_count": null,
      "metadata": {
        "id": "uTqgm1_6lR5T"
      },
      "outputs": [],
      "source": [
        "lstm_layer = layers.Bidirectional(layers.LSTM(\n",
        "    lstm_units,\n",
        "    dropout=0.2,\n",
        "    recurrent_dropout=0.2\n",
        "))"
      ]
    },
    {
      "cell_type": "code",
      "execution_count": null,
      "metadata": {
        "colab": {
          "base_uri": "https://localhost:8080/"
        },
        "id": "n4CJF-oZk0pL",
        "outputId": "30517ba0-84b6-47d1-d492-4a985ba25042"
      },
      "outputs": [
        {
          "name": "stdout",
          "output_type": "stream",
          "text": [
            "Model: \"model\"\n",
            "__________________________________________________________________________________________________\n",
            " Layer (type)                   Output Shape         Param #     Connected to                     \n",
            "==================================================================================================\n",
            " input_left (InputLayer)        [(None, 25)]         0           []                               \n",
            "                                                                                                  \n",
            " input_right (InputLayer)       [(None, 25)]         0           []                               \n",
            "                                                                                                  \n",
            " embedding (Embedding)          (None, 25, 300)      29006700    ['input_left[0][0]',             \n",
            "                                                                  'input_right[0][0]']            \n",
            "                                                                                                  \n",
            " bidirectional (Bidirectional)  (None, 20)           24880       ['embedding[0][0]',              \n",
            "                                                                  'embedding[1][0]']              \n",
            "                                                                                                  \n",
            " Manhattan_Distance (Lambda)    (None, 20)           0           ['bidirectional[0][0]',          \n",
            "                                                                  'bidirectional[1][0]']          \n",
            "                                                                                                  \n",
            " dense (Dense)                  (None, 1)            21          ['Manhattan_Distance[0][0]']     \n",
            "                                                                                                  \n",
            "==================================================================================================\n",
            "Total params: 29,031,601\n",
            "Trainable params: 24,901\n",
            "Non-trainable params: 29,006,700\n",
            "__________________________________________________________________________________________________\n"
          ]
        }
      ],
      "source": [
        "input_left = layers.Input(shape=(m_len,), name=\"input_left\")\n",
        "embedded_sequences_left = embedding_layer(input_left)\n",
        "lstm_left = lstm_layer(embedded_sequences_left)\n",
        "input_right = layers.Input(shape=(m_len,), name=\"input_right\")\n",
        "embedded_sequences_right = embedding_layer(input_right)\n",
        "lstm_2 = lstm_layer(embedded_sequences_right)\n",
        "mhd = lambda x: keras.backend.abs(x[0] - x[1]) # Manhattan Distance\n",
        "merged = layers.Lambda(function=mhd, output_shape=lambda x: x[0], name='Manhattan_Distance')([lstm_left, lstm_2])\n",
        "preds = layers.Dense(1, activation='sigmoid')(merged)\n",
        "model = Model(inputs=[input_left, input_right], outputs=preds)\n",
        "compile_model(model, loss='mse')"
      ]
    },
    {
      "cell_type": "code",
      "execution_count": null,
      "metadata": {
        "colab": {
          "base_uri": "https://localhost:8080/",
          "height": 686
        },
        "id": "_dM_YykWu_q9",
        "outputId": "c815993e-8ebf-4d29-e92e-4974d4a1b1b2"
      },
      "outputs": [
        {
          "data": {
            "image/png": "[encoded data removed]",
            "text/plain": [
              "<IPython.core.display.Image object>"
            ]
          },
          "execution_count": 21,
          "metadata": {},
          "output_type": "execute_result"
        }
      ],
      "source": [
        "tf.keras.utils.plot_model(model, show_shapes=True, show_dtype=True, expand_nested=True)"
      ]
    },
    {
      "cell_type": "code",
      "execution_count": null,
      "metadata": {
        "id": "a4rv8wnjB7RE"
      },
      "outputs": [],
      "source": [
        "def get_samples(df, max_length):\n",
        "  left = df[['tokenizer_1']]\n",
        "  right = df[['tokenizer_2']]\n",
        "  return sequence.pad_sequences(left.tokenizer_1, maxlen = max_length, padding='post', truncating='post'), sequence.pad_sequences(right.tokenizer_2, maxlen=max_length, padding='post', truncating='post')"
      ]
    },
    {
      "cell_type": "code",
      "execution_count": null,
      "metadata": {
        "id": "Kc9Kj96nBIy8"
      },
      "outputs": [],
      "source": [
        "x_train_left, x_train_right = get_samples(train_questions, m_len)\n",
        "y_train = train_questions[['is_duplicate']]\n",
        "\n",
        "x_val_left, x_val_right = get_samples(validation_questions, m_len)\n",
        "y_val = validation_questions[['is_duplicate']]\n",
        "\n",
        "x_test_left, x_test_right = get_samples(test_questions, m_len)\n",
        "y_test = test_questions[['is_duplicate']]"
      ]
    },
    {
      "cell_type": "code",
      "execution_count": null,
      "metadata": {
        "colab": {
          "base_uri": "https://localhost:8080/"
        },
        "id": "f-T94Qi7Cq5Y",
        "outputId": "be348a45-3c90-4a03-8b2a-ab5fe3a9a2b5"
      },
      "outputs": [
        {
          "data": {
            "text/plain": [
              "True"
            ]
          },
          "execution_count": 24,
          "metadata": {},
          "output_type": "execute_result"
        }
      ],
      "source": [
        "x_train_left.shape == x_train_right.shape"
      ]
    },
    {
      "cell_type": "code",
      "execution_count": null,
      "metadata": {
        "colab": {
          "base_uri": "https://localhost:8080/"
        },
        "id": "XU_RIWkNDBqb",
        "outputId": "100b9218-2638-4e5a-d742-ed05de85e530"
      },
      "outputs": [
        {
          "data": {
            "text/plain": [
              "True"
            ]
          },
          "execution_count": 25,
          "metadata": {},
          "output_type": "execute_result"
        }
      ],
      "source": [
        "len(x_train_left) == len(y_train)"
      ]
    },
    {
      "cell_type": "code",
      "execution_count": null,
      "metadata": {
        "colab": {
          "base_uri": "https://localhost:8080/",
          "height": 1000
        },
        "id": "W5v8rTOVvMjA",
        "outputId": "af37cf1a-35e3-458f-df95-d06092b261a2"
      },
      "outputs": [
        {
          "name": "stdout",
          "output_type": "stream",
          "text": [
            "Epoch 1/20\n",
            "5054/5054 [==============================] - ETA: 0s - loss: 0.1852 - accuracy: 0.7103\n",
            "Epoch 1: val_loss improved from inf to 0.16604, saving model to /content/Models/siamese_bi_word2vec-300_m-len-25.h5\n",
            "5054/5054 [==============================] - 1068s 206ms/step - loss: 0.1852 - accuracy: 0.7103 - val_loss: 0.1660 - val_accuracy: 0.7531\n",
            "Epoch 2/20\n",
            "5054/5054 [==============================] - ETA: 0s - loss: 0.1654 - accuracy: 0.7517\n",
            "Epoch 2: val_loss improved from 0.16604 to 0.15711, saving model to /content/Models/siamese_bi_word2vec-300_m-len-25.h5\n",
            "5054/5054 [==============================] - 1050s 208ms/step - loss: 0.1654 - accuracy: 0.7517 - val_loss: 0.1571 - val_accuracy: 0.7688\n",
            "Epoch 3/20\n",
            "5054/5054 [==============================] - ETA: 0s - loss: 0.1594 - accuracy: 0.7631\n",
            "Epoch 3: val_loss improved from 0.15711 to 0.15279, saving model to /content/Models/siamese_bi_word2vec-300_m-len-25.h5\n",
            "5054/5054 [==============================] - 1077s 213ms/step - loss: 0.1594 - accuracy: 0.7631 - val_loss: 0.1528 - val_accuracy: 0.7764\n",
            "Epoch 4/20\n",
            "5054/5054 [==============================] - ETA: 0s - loss: 0.1560 - accuracy: 0.7696\n",
            "Epoch 4: val_loss improved from 0.15279 to 0.15033, saving model to /content/Models/siamese_bi_word2vec-300_m-len-25.h5\n",
            "5054/5054 [==============================] - 1058s 209ms/step - loss: 0.1560 - accuracy: 0.7696 - val_loss: 0.1503 - val_accuracy: 0.7811\n",
            "Epoch 5/20\n",
            "5054/5054 [==============================] - ETA: 0s - loss: 0.1538 - accuracy: 0.7729\n",
            "Epoch 5: val_loss improved from 0.15033 to 0.14837, saving model to /content/Models/siamese_bi_word2vec-300_m-len-25.h5\n",
            "5054/5054 [==============================] - 1045s 207ms/step - loss: 0.1538 - accuracy: 0.7729 - val_loss: 0.1484 - val_accuracy: 0.7846\n",
            "Epoch 6/20\n",
            "5054/5054 [==============================] - ETA: 0s - loss: 0.1517 - accuracy: 0.7773\n",
            "Epoch 6: val_loss improved from 0.14837 to 0.14768, saving model to /content/Models/siamese_bi_word2vec-300_m-len-25.h5\n",
            "5054/5054 [==============================] - 1080s 214ms/step - loss: 0.1517 - accuracy: 0.7773 - val_loss: 0.1477 - val_accuracy: 0.7845\n",
            "Epoch 7/20\n",
            "5054/5054 [==============================] - ETA: 0s - loss: 0.1503 - accuracy: 0.7794\n",
            "Epoch 7: val_loss improved from 0.14768 to 0.14648, saving model to /content/Models/siamese_bi_word2vec-300_m-len-25.h5\n",
            "5054/5054 [==============================] - 1048s 207ms/step - loss: 0.1503 - accuracy: 0.7794 - val_loss: 0.1465 - val_accuracy: 0.7876\n",
            "Epoch 8/20\n",
            "5054/5054 [==============================] - ETA: 0s - loss: 0.1490 - accuracy: 0.7814\n",
            "Epoch 8: val_loss improved from 0.14648 to 0.14497, saving model to /content/Models/siamese_bi_word2vec-300_m-len-25.h5\n",
            "5054/5054 [==============================] - 1050s 208ms/step - loss: 0.1490 - accuracy: 0.7814 - val_loss: 0.1450 - val_accuracy: 0.7901\n",
            "Epoch 9/20\n",
            "5054/5054 [==============================] - ETA: 0s - loss: 0.1481 - accuracy: 0.7827\n",
            "Epoch 9: val_loss improved from 0.14497 to 0.14490, saving model to /content/Models/siamese_bi_word2vec-300_m-len-25.h5\n",
            "5054/5054 [==============================] - 1053s 208ms/step - loss: 0.1481 - accuracy: 0.7827 - val_loss: 0.1449 - val_accuracy: 0.7899\n",
            "Epoch 10/20\n",
            "5054/5054 [==============================] - ETA: 0s - loss: 0.1477 - accuracy: 0.7841\n",
            "Epoch 10: val_loss improved from 0.14490 to 0.14356, saving model to /content/Models/siamese_bi_word2vec-300_m-len-25.h5\n",
            "5054/5054 [==============================] - 1040s 206ms/step - loss: 0.1477 - accuracy: 0.7841 - val_loss: 0.1436 - val_accuracy: 0.7920\n",
            "Epoch 11/20\n",
            "5054/5054 [==============================] - ETA: 0s - loss: 0.1466 - accuracy: 0.7862\n",
            "Epoch 11: val_loss did not improve from 0.14356\n",
            "5054/5054 [==============================] - 1037s 205ms/step - loss: 0.1466 - accuracy: 0.7862 - val_loss: 0.1436 - val_accuracy: 0.7917\n",
            "Epoch 12/20\n",
            "5054/5054 [==============================] - ETA: 0s - loss: 0.1461 - accuracy: 0.7875\n",
            "Epoch 12: val_loss improved from 0.14356 to 0.14321, saving model to /content/Models/siamese_bi_word2vec-300_m-len-25.h5\n",
            "5054/5054 [==============================] - 1035s 205ms/step - loss: 0.1461 - accuracy: 0.7875 - val_loss: 0.1432 - val_accuracy: 0.7921\n",
            "Epoch 13/20\n",
            "5054/5054 [==============================] - ETA: 0s - loss: 0.1455 - accuracy: 0.7881\n",
            "Epoch 13: val_loss improved from 0.14321 to 0.14270, saving model to /content/Models/siamese_bi_word2vec-300_m-len-25.h5\n",
            "5054/5054 [==============================] - 1051s 208ms/step - loss: 0.1455 - accuracy: 0.7881 - val_loss: 0.1427 - val_accuracy: 0.7925\n",
            "Epoch 14/20\n",
            "5054/5054 [==============================] - ETA: 0s - loss: 0.1448 - accuracy: 0.7897\n",
            "Epoch 14: val_loss did not improve from 0.14270\n",
            "5054/5054 [==============================] - 1060s 210ms/step - loss: 0.1448 - accuracy: 0.7897 - val_loss: 0.1434 - val_accuracy: 0.7927\n",
            "Epoch 15/20\n",
            "5054/5054 [==============================] - ETA: 0s - loss: 0.1443 - accuracy: 0.7896\n",
            "Epoch 15: val_loss improved from 0.14270 to 0.14124, saving model to /content/Models/siamese_bi_word2vec-300_m-len-25.h5\n",
            "5054/5054 [==============================] - 1069s 212ms/step - loss: 0.1443 - accuracy: 0.7896 - val_loss: 0.1412 - val_accuracy: 0.7970\n",
            "Epoch 16/20\n",
            "5054/5054 [==============================] - ETA: 0s - loss: 0.1439 - accuracy: 0.7907\n",
            "Epoch 16: val_loss did not improve from 0.14124\n",
            "5054/5054 [==============================] - 1064s 210ms/step - loss: 0.1439 - accuracy: 0.7907 - val_loss: 0.1426 - val_accuracy: 0.7934\n",
            "Epoch 17/20\n",
            "5054/5054 [==============================] - ETA: 0s - loss: 0.1437 - accuracy: 0.7914\n",
            "Epoch 17: val_loss did not improve from 0.14124\n",
            "5054/5054 [==============================] - 1045s 207ms/step - loss: 0.1437 - accuracy: 0.7914 - val_loss: 0.1416 - val_accuracy: 0.7957\n",
            "Epoch 18/20\n",
            "5054/5054 [==============================] - ETA: 0s - loss: 0.1435 - accuracy: 0.7915\n",
            "Epoch 18: val_loss did not improve from 0.14124\n",
            "5054/5054 [==============================] - 1037s 205ms/step - loss: 0.1435 - accuracy: 0.7915 - val_loss: 0.1422 - val_accuracy: 0.7944\n",
            "Epoch 19/20\n",
            "5054/5054 [==============================] - ETA: 0s - loss: 0.1429 - accuracy: 0.7936\n",
            "Epoch 19: val_loss improved from 0.14124 to 0.14116, saving model to /content/Models/siamese_bi_word2vec-300_m-len-25.h5\n",
            "5054/5054 [==============================] - 1036s 205ms/step - loss: 0.1429 - accuracy: 0.7936 - val_loss: 0.1412 - val_accuracy: 0.7970\n",
            "Epoch 20/20\n",
            "5054/5054 [==============================] - ETA: 0s - loss: 0.1429 - accuracy: 0.7924\n",
            "Epoch 20: val_loss improved from 0.14116 to 0.14006, saving model to /content/Models/siamese_bi_word2vec-300_m-len-25.h5\n",
            "5054/5054 [==============================] - 1030s 204ms/step - loss: 0.1429 - accuracy: 0.7924 - val_loss: 0.1401 - val_accuracy: 0.7976\n"
          ]
        },
        {
          "data": {
            "image/png": "[encoded data removed]",
            "text/plain": [
              "<Figure size 432x288 with 1 Axes>"
            ]
          },
          "metadata": {},
          "output_type": "display_data"
        },
        {
          "data": {
            "image/png": "[encoded data removed]",
            "text/plain": [
              "<Figure size 432x288 with 1 Axes>"
            ]
          },
          "metadata": {},
          "output_type": "display_data"
        }
      ],
      "source": [
        "run_model(model, \"siamese_bi_word2vec-300_m-len-25\", [x_train_left, x_train_right], y_train, [x_val_left, x_val_right], y_val, epochs = 20)"
      ]
    },
    {
      "cell_type": "code",
      "execution_count": null,
      "metadata": {
        "colab": {
          "base_uri": "https://localhost:8080/",
          "height": 727
        },
        "id": "qFbhgUEQoXkD",
        "outputId": "0a7db302-be38-4011-c3ad-3d65e0bff061"
      },
      "outputs": [
        {
          "name": "stdout",
          "output_type": "stream",
          "text": [
            "Classification report: \n",
            "              precision    recall  f1-score   support\n",
            "\n",
            "           0     0.8561    0.8121    0.8336     25348\n",
            "           1     0.7093    0.7706    0.7387     15080\n",
            "\n",
            "    accuracy                         0.7967     40428\n",
            "   macro avg     0.7827    0.7914    0.7861     40428\n",
            "weighted avg     0.8014    0.7967    0.7982     40428\n",
            "\n"
          ]
        },
        {
          "data": {
            "image/png": "[encoded data removed]",
            "text/plain": [
              "<Figure size 432x288 with 2 Axes>"
            ]
          },
          "metadata": {},
          "output_type": "display_data"
        },
        {
          "data": {
            "image/png": "[encoded data removed]",
            "text/plain": [
              "<Figure size 432x288 with 1 Axes>"
            ]
          },
          "metadata": {},
          "output_type": "display_data"
        }
      ],
      "source": [
        "evaluate_model(model, [x_test_left, x_test_right], y_test)"
      ]
    },
    {
      "cell_type": "markdown",
      "metadata": {
        "id": "EKQU0eRzCZbd"
      },
      "source": [
        "### Experiment 3: LSTM with trainable embeddings"
      ]
    },
    {
      "cell_type": "code",
      "execution_count": null,
      "metadata": {
        "id": "o-xk62Af3r68"
      },
      "outputs": [],
      "source": [
        "model = keras.models.load_model(os.path.join(GLOBAL_MODELS_FOLDER, 'siamese_lstm_word2vec_2-300_m-len-25.h5'))"
      ]
    },
    {
      "cell_type": "code",
      "execution_count": null,
      "metadata": {
        "colab": {
          "base_uri": "https://localhost:8080/"
        },
        "id": "UnG1v9ZU393V",
        "outputId": "71b3f5fa-7681-4fc8-e4ad-91f44af7a85e"
      },
      "outputs": [
        {
          "name": "stdout",
          "output_type": "stream",
          "text": [
            "Model: \"model\"\n",
            "__________________________________________________________________________________________________\n",
            " Layer (type)                   Output Shape         Param #     Connected to                     \n",
            "==================================================================================================\n",
            " input_left (InputLayer)        [(None, 25)]         0           []                               \n",
            "                                                                                                  \n",
            " input_right (InputLayer)       [(None, 25)]         0           []                               \n",
            "                                                                                                  \n",
            " embedding (Embedding)          (None, 25, 300)      29006700    ['input_left[0][0]',             \n",
            "                                                                  'input_right[0][0]']            \n",
            "                                                                                                  \n",
            " lstm (LSTM)                    (None, 50)           70200       ['embedding[0][0]',              \n",
            "                                                                  'embedding[1][0]']              \n",
            "                                                                                                  \n",
            " Manhattan_Distance (Lambda)    (None, 50)           0           ['lstm[0][0]',                   \n",
            "                                                                  'lstm[1][0]']                   \n",
            "                                                                                                  \n",
            " dense (Dense)                  (None, 1)            51          ['Manhattan_Distance[0][0]']     \n",
            "                                                                                                  \n",
            "==================================================================================================\n",
            "Total params: 29,076,951\n",
            "Trainable params: 29,076,951\n",
            "Non-trainable params: 0\n",
            "__________________________________________________________________________________________________\n"
          ]
        }
      ],
      "source": [
        "for layer in model.layers:\n",
        "  if layer.name == 'embedding':\n",
        "    layer.trainable = True\n",
        "compile_model(model, loss='mse')"
      ]
    },
    {
      "cell_type": "code",
      "execution_count": null,
      "metadata": {
        "colab": {
          "base_uri": "https://localhost:8080/",
          "height": 686
        },
        "id": "pfNOlcfVCZbj",
        "outputId": "399cfbba-c8a2-4d6f-fbce-26cf236eaf1b"
      },
      "outputs": [
        {
          "data": {
            "image/png": "[encoded data removed]",
            "text/plain": [
              "<IPython.core.display.Image object>"
            ]
          },
          "execution_count": 19,
          "metadata": {},
          "output_type": "execute_result"
        }
      ],
      "source": [
        "tf.keras.utils.plot_model(model, show_shapes=True, show_dtype=True, expand_nested=True)"
      ]
    },
    {
      "cell_type": "code",
      "execution_count": null,
      "metadata": {
        "id": "Go1bIzDFCZbk"
      },
      "outputs": [],
      "source": [
        "def get_samples(df, max_length):\n",
        "  left = df[['tokenizer_1']]\n",
        "  right = df[['tokenizer_2']]\n",
        "  return sequence.pad_sequences(left.tokenizer_1, maxlen = max_length, padding='post', truncating='post'), sequence.pad_sequences(right.tokenizer_2, maxlen=max_length, padding='post', truncating='post')"
      ]
    },
    {
      "cell_type": "code",
      "execution_count": null,
      "metadata": {
        "id": "hbxYMpzYCZbl"
      },
      "outputs": [],
      "source": [
        "x_train_left, x_train_right = get_samples(train_questions, m_len)\n",
        "y_train = train_questions[['is_duplicate']]\n",
        "\n",
        "x_val_left, x_val_right = get_samples(validation_questions, m_len)\n",
        "y_val = validation_questions[['is_duplicate']]\n",
        "\n",
        "x_test_left, x_test_right = get_samples(test_questions, m_len)\n",
        "y_test = test_questions[['is_duplicate']]"
      ]
    },
    {
      "cell_type": "code",
      "execution_count": null,
      "metadata": {
        "colab": {
          "base_uri": "https://localhost:8080/"
        },
        "id": "dDUmePexCZbl",
        "outputId": "a8279f31-f2e5-42e7-aaef-f0d3de9d4bdf"
      },
      "outputs": [
        {
          "output_type": "execute_result",
          "data": {
            "text/plain": [
              "True"
            ]
          },
          "metadata": {},
          "execution_count": 17
        }
      ],
      "source": [
        "x_train_left.shape == x_train_right.shape"
      ]
    },
    {
      "cell_type": "code",
      "execution_count": null,
      "metadata": {
        "colab": {
          "base_uri": "https://localhost:8080/"
        },
        "id": "tIl7eez-CZbm",
        "outputId": "e3f0be1a-02a5-4a29-d6ee-b80b4593c560"
      },
      "outputs": [
        {
          "output_type": "execute_result",
          "data": {
            "text/plain": [
              "True"
            ]
          },
          "metadata": {},
          "execution_count": 18
        }
      ],
      "source": [
        "len(x_train_left) == len(y_train)"
      ]
    },
    {
      "cell_type": "code",
      "execution_count": null,
      "metadata": {
        "colab": {
          "background_save": true,
          "base_uri": "https://localhost:8080/"
        },
        "id": "D8xVAeinCZbn",
        "outputId": "0a38fc8f-488f-4bcb-8c50-9213c1b15842"
      },
      "outputs": [
        {
          "name": "stdout",
          "output_type": "stream",
          "text": [
            "Epoch 1/10\n",
            "5054/5054 [==============================] - ETA: 0s - loss: 0.1178 - accuracy: 0.8382\n",
            "Epoch 1: val_loss improved from inf to 0.11884, saving model to /content/Models/siamese_lstm_trainable_word2vec-300_m-len-25.h5\n",
            "5054/5054 [==============================] - 1876s 369ms/step - loss: 0.1178 - accuracy: 0.8382 - val_loss: 0.1188 - val_accuracy: 0.8364\n",
            "Epoch 2/10\n",
            "5054/5054 [==============================] - ETA: 0s - loss: 0.0781 - accuracy: 0.8987\n",
            "Epoch 2: val_loss improved from 0.11884 to 0.11606, saving model to /content/Models/siamese_lstm_trainable_word2vec-300_m-len-25.h5\n",
            "5054/5054 [==============================] - 1841s 364ms/step - loss: 0.0781 - accuracy: 0.8987 - val_loss: 0.1161 - val_accuracy: 0.8425\n",
            "Epoch 3/10\n",
            "5054/5054 [==============================] - ETA: 0s - loss: 0.0543 - accuracy: 0.9336\n",
            "Epoch 3: val_loss did not improve from 0.11606\n",
            "5054/5054 [==============================] - 1784s 353ms/step - loss: 0.0543 - accuracy: 0.9336 - val_loss: 0.1164 - val_accuracy: 0.8457\n",
            "Epoch 4/10\n",
            "5054/5054 [==============================] - ETA: 0s - loss: 0.0395 - accuracy: 0.9530\n",
            "Epoch 4: val_loss did not improve from 0.11606\n",
            "5054/5054 [==============================] - 1782s 353ms/step - loss: 0.0395 - accuracy: 0.9530 - val_loss: 0.1194 - val_accuracy: 0.8432\n",
            "Epoch 5/10\n",
            "5054/5054 [==============================] - ETA: 0s - loss: 0.0304 - accuracy: 0.9648\n",
            "Epoch 5: val_loss did not improve from 0.11606\n",
            "5054/5054 [==============================] - 1767s 350ms/step - loss: 0.0304 - accuracy: 0.9648 - val_loss: 0.1213 - val_accuracy: 0.8437\n",
            "Epoch 6/10\n",
            "5054/5054 [==============================] - ETA: 0s - loss: 0.0250 - accuracy: 0.9714\n",
            "Epoch 6: val_loss did not improve from 0.11606\n",
            "5054/5054 [==============================] - 1747s 346ms/step - loss: 0.0250 - accuracy: 0.9714 - val_loss: 0.1233 - val_accuracy: 0.8428\n",
            "Epoch 7/10\n",
            "5054/5054 [==============================] - ETA: 0s - loss: 0.0215 - accuracy: 0.9759\n",
            "Epoch 7: val_loss did not improve from 0.11606\n",
            "5054/5054 [==============================] - 1749s 346ms/step - loss: 0.0215 - accuracy: 0.9759 - val_loss: 0.1266 - val_accuracy: 0.8410\n"
          ]
        },
        {
          "data": {
            "image/png": "[encoded data removed]",
            "text/plain": [
              "<Figure size 432x288 with 1 Axes>"
            ]
          },
          "metadata": {},
          "output_type": "display_data"
        },
        {
          "data": {
            "image/png": "[encoded data removed]",
            "text/plain": [
              "<Figure size 432x288 with 1 Axes>"
            ]
          },
          "metadata": {},
          "output_type": "display_data"
        }
      ],
      "source": [
        "run_model(model, \"siamese_lstm_trainable_word2vec-300_m-len-25\", [x_train_left, x_train_right], y_train, [x_val_left, x_val_right], y_val, epochs = 10)"
      ]
    },
    {
      "cell_type": "code",
      "source": [
        "model = keras.models.load_model(os.path.join(GLOBAL_MODELS_FOLDER, 'siamese_lstm_trainable_word2vec-300_m-len-25.h5'))"
      ],
      "metadata": {
        "id": "ZBzNJ1aclegc"
      },
      "execution_count": null,
      "outputs": []
    },
    {
      "cell_type": "code",
      "execution_count": null,
      "metadata": {
        "colab": {
          "base_uri": "https://localhost:8080/",
          "height": 730
        },
        "id": "EXm7_v1ZCZbn",
        "outputId": "07e3e0ba-901a-40dd-8bd8-29602065c641"
      },
      "outputs": [
        {
          "output_type": "stream",
          "name": "stdout",
          "text": [
            "Classification report: \n",
            "              precision    recall  f1-score   support\n",
            "\n",
            "           0     0.8743    0.8722    0.8732     25348\n",
            "           1     0.7860    0.7893    0.7876     15080\n",
            "\n",
            "    accuracy                         0.8412     40428\n",
            "   macro avg     0.8302    0.8307    0.8304     40428\n",
            "weighted avg     0.8414    0.8412    0.8413     40428\n",
            "\n"
          ]
        },
        {
          "output_type": "display_data",
          "data": {
            "image/png": "[encoded data removed]",
            "text/plain": [
              "<Figure size 432x288 with 2 Axes>"
            ]
          },
          "metadata": {
            "needs_background": "light"
          }
        },
        {
          "output_type": "display_data",
          "data": {
            "image/png": "[encoded data removed]",
            "text/plain": [
              "<Figure size 432x288 with 1 Axes>"
            ]
          },
          "metadata": {
            "needs_background": "light"
          }
        }
      ],
      "source": [
        "evaluate_model(model, [x_test_left, x_test_right], y_test)"
      ]
    }
  ],
  "metadata": {
    "accelerator": "TPU",
    "colab": {
      "collapsed_sections": [],
      "name": "5. Siamese with word2vec.ipynb",
      "toc_visible": true,
      "provenance": []
    },
    "kernelspec": {
      "display_name": "Python 3",
      "name": "python3"
    },
    "language_info": {
      "name": "python"
    }
  },
  "nbformat": 4,
  "nbformat_minor": 0
}